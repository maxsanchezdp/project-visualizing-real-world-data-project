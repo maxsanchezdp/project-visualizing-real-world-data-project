{
 "cells": [
  {
   "cell_type": "code",
   "execution_count": 104,
   "metadata": {},
   "outputs": [],
   "source": [
    "from pymongo import MongoClient\n",
    "import pandas as pd\n",
    "import numpy as np\n",
    "import pprint\n",
    "import re\n",
    "import requests as req\n",
    "\n",
    "client = MongoClient('mongodb://localhost:27017/')\n",
    "db = client.companies"
   ]
  },
  {
   "cell_type": "markdown",
   "metadata": {},
   "source": [
    "#### PyMongo query to keep only companies that match the following criteria:\n",
    "#### **More than 0 employees, with information on foundation year, not deadpooled, with information on offices and coordinates**\n",
    "#### Also, I will only be keeping the fields in the \"projection\" dictionary."
   ]
  },
  {
   "cell_type": "code",
   "execution_count": 105,
   "metadata": {},
   "outputs": [],
   "source": [
    "query={\n",
    "    '$and': [\n",
    "        {'number_of_employees':{'$ne':None}},\n",
    "        {'number_of_employees':{'$gt':0}},\n",
    "        {'founded_year':{'$ne':None}},\n",
    "        {'deadpooled_year':None},\n",
    "        {\"offices.latitude\":{'$not':{'$eq':None}}},\n",
    "        {\"offices.longitude\":{'$not':{'$eq':None}}},\n",
    "        {\"offices.latitude\":{'$exists':True}},\n",
    "        {\"offices.longitude\":{'$exists':True}}]\n",
    "}\n",
    "projection={\n",
    "    '_id':0,'category_code':1,\n",
    "    'name':1,'number_of_employees':1,\n",
    "    'founded_year':1,'tag_list':1,\n",
    "    'description':1,\n",
    "    'total_money_raised':1,\n",
    "    \"offices.latitude\":1,\n",
    "    \"offices.longitude\":1}\n",
    "with_geoloc=db.companies.find(query,projection)"
   ]
  },
  {
   "cell_type": "markdown",
   "metadata": {},
   "source": [
    "#### Make a dataframe from the previous query:"
   ]
  },
  {
   "cell_type": "code",
   "execution_count": 106,
   "metadata": {},
   "outputs": [
    {
     "data": {
      "text/plain": [
       "Index(['category_code', 'description', 'founded_year', 'name',\n",
       "       'number_of_employees', 'offices', 'tag_list', 'total_money_raised'],\n",
       "      dtype='object')"
      ]
     },
     "execution_count": 106,
     "metadata": {},
     "output_type": "execute_result"
    }
   ],
   "source": [
    "df=pd.DataFrame(with_geoloc)\n",
    "df.columns"
   ]
  },
  {
   "cell_type": "markdown",
   "metadata": {},
   "source": [
    "#### Re-order columns:"
   ]
  },
  {
   "cell_type": "code",
   "execution_count": 107,
   "metadata": {},
   "outputs": [
    {
     "data": {
      "text/html": [
       "<div>\n",
       "<style scoped>\n",
       "    .dataframe tbody tr th:only-of-type {\n",
       "        vertical-align: middle;\n",
       "    }\n",
       "\n",
       "    .dataframe tbody tr th {\n",
       "        vertical-align: top;\n",
       "    }\n",
       "\n",
       "    .dataframe thead th {\n",
       "        text-align: right;\n",
       "    }\n",
       "</style>\n",
       "<table border=\"1\" class=\"dataframe\">\n",
       "  <thead>\n",
       "    <tr style=\"text-align: right;\">\n",
       "      <th></th>\n",
       "      <th>name</th>\n",
       "      <th>category_code</th>\n",
       "      <th>description</th>\n",
       "      <th>tag_list</th>\n",
       "      <th>founded_year</th>\n",
       "      <th>number_of_employees</th>\n",
       "      <th>total_money_raised</th>\n",
       "      <th>offices</th>\n",
       "    </tr>\n",
       "  </thead>\n",
       "  <tbody>\n",
       "    <tr>\n",
       "      <th>0</th>\n",
       "      <td>Digg</td>\n",
       "      <td>news</td>\n",
       "      <td>user driven social content website</td>\n",
       "      <td>community, social, news, bookmark, digg, techn...</td>\n",
       "      <td>2004</td>\n",
       "      <td>60</td>\n",
       "      <td>$45M</td>\n",
       "      <td>[{'latitude': 37.764726, 'longitude': -122.394...</td>\n",
       "    </tr>\n",
       "    <tr>\n",
       "      <th>1</th>\n",
       "      <td>Geni</td>\n",
       "      <td>web</td>\n",
       "      <td>Geneology social network site</td>\n",
       "      <td>geni, geneology, social, family, genealogy</td>\n",
       "      <td>2006</td>\n",
       "      <td>18</td>\n",
       "      <td>$16.5M</td>\n",
       "      <td>[{'latitude': 34.090368, 'longitude': -118.393...</td>\n",
       "    </tr>\n",
       "    <tr>\n",
       "      <th>2</th>\n",
       "      <td>Scribd</td>\n",
       "      <td>news</td>\n",
       "      <td>Read Unlimited Books</td>\n",
       "      <td>book-subscription, digital-library, netflix-fo...</td>\n",
       "      <td>2007</td>\n",
       "      <td>50</td>\n",
       "      <td>$25.8M</td>\n",
       "      <td>[{'latitude': 37.789634, 'longitude': -122.404...</td>\n",
       "    </tr>\n",
       "  </tbody>\n",
       "</table>\n",
       "</div>"
      ],
      "text/plain": [
       "     name category_code                         description  \\\n",
       "0    Digg          news  user driven social content website   \n",
       "1    Geni           web       Geneology social network site   \n",
       "2  Scribd          news                Read Unlimited Books   \n",
       "\n",
       "                                            tag_list  founded_year  \\\n",
       "0  community, social, news, bookmark, digg, techn...          2004   \n",
       "1         geni, geneology, social, family, genealogy          2006   \n",
       "2  book-subscription, digital-library, netflix-fo...          2007   \n",
       "\n",
       "   number_of_employees total_money_raised  \\\n",
       "0                   60               $45M   \n",
       "1                   18             $16.5M   \n",
       "2                   50             $25.8M   \n",
       "\n",
       "                                             offices  \n",
       "0  [{'latitude': 37.764726, 'longitude': -122.394...  \n",
       "1  [{'latitude': 34.090368, 'longitude': -118.393...  \n",
       "2  [{'latitude': 37.789634, 'longitude': -122.404...  "
      ]
     },
     "execution_count": 107,
     "metadata": {},
     "output_type": "execute_result"
    }
   ],
   "source": [
    "df=df[['name','category_code','description','tag_list','founded_year','number_of_employees','total_money_raised','offices']]\n",
    "df.head(3)"
   ]
  },
  {
   "cell_type": "markdown",
   "metadata": {},
   "source": [
    "#### The \"total_money_raised\" column needs to be cleaned as the info is available in different currencies and as a string. First, I'll get the exchange rates from an API:"
   ]
  },
  {
   "cell_type": "code",
   "execution_count": 108,
   "metadata": {},
   "outputs": [
    {
     "data": {
      "text/plain": [
       "{'CAD': 1.3113190731,\n",
       " 'EUR': 0.8912655971,\n",
       " 'GBP': 0.8014973262,\n",
       " 'SEK': 9.4557040998}"
      ]
     },
     "execution_count": 108,
     "metadata": {},
     "output_type": "execute_result"
    }
   ],
   "source": [
    "url=\"https://api.exchangeratesapi.io/latest\"\n",
    "query_params={\"base\":\"USD\",\"symbols\":[\"CAD\",\"EUR\",\"GBP\",\"SEK\"]}\n",
    "\n",
    "res = req.get(url,params=query_params)\n",
    "content=res.json()\n",
    "rates=content[\"rates\"]\n",
    "\n",
    "rates"
   ]
  },
  {
   "cell_type": "markdown",
   "metadata": {},
   "source": [
    "#### Now I will transform the content of the column into a float number in USD:"
   ]
  },
  {
   "cell_type": "code",
   "execution_count": 109,
   "metadata": {
    "scrolled": true
   },
   "outputs": [
    {
     "data": {
      "text/html": [
       "<div>\n",
       "<style scoped>\n",
       "    .dataframe tbody tr th:only-of-type {\n",
       "        vertical-align: middle;\n",
       "    }\n",
       "\n",
       "    .dataframe tbody tr th {\n",
       "        vertical-align: top;\n",
       "    }\n",
       "\n",
       "    .dataframe thead th {\n",
       "        text-align: right;\n",
       "    }\n",
       "</style>\n",
       "<table border=\"1\" class=\"dataframe\">\n",
       "  <thead>\n",
       "    <tr style=\"text-align: right;\">\n",
       "      <th></th>\n",
       "      <th>index</th>\n",
       "      <th>name</th>\n",
       "      <th>category_code</th>\n",
       "      <th>description</th>\n",
       "      <th>tag_list</th>\n",
       "      <th>founded_year</th>\n",
       "      <th>number_of_employees</th>\n",
       "      <th>total_money_raised</th>\n",
       "      <th>raised_money_dollars</th>\n",
       "      <th>offices</th>\n",
       "    </tr>\n",
       "  </thead>\n",
       "  <tbody>\n",
       "    <tr>\n",
       "      <th>0</th>\n",
       "      <td>0</td>\n",
       "      <td>Digg</td>\n",
       "      <td>news</td>\n",
       "      <td>user driven social content website</td>\n",
       "      <td>community, social, news, bookmark, digg, techn...</td>\n",
       "      <td>2004</td>\n",
       "      <td>60</td>\n",
       "      <td>$45M</td>\n",
       "      <td>45000000</td>\n",
       "      <td>[{'latitude': 37.764726, 'longitude': -122.394...</td>\n",
       "    </tr>\n",
       "    <tr>\n",
       "      <th>1</th>\n",
       "      <td>1</td>\n",
       "      <td>Geni</td>\n",
       "      <td>web</td>\n",
       "      <td>Geneology social network site</td>\n",
       "      <td>geni, geneology, social, family, genealogy</td>\n",
       "      <td>2006</td>\n",
       "      <td>18</td>\n",
       "      <td>$16.5M</td>\n",
       "      <td>16500000</td>\n",
       "      <td>[{'latitude': 34.090368, 'longitude': -118.393...</td>\n",
       "    </tr>\n",
       "    <tr>\n",
       "      <th>2</th>\n",
       "      <td>2</td>\n",
       "      <td>Scribd</td>\n",
       "      <td>news</td>\n",
       "      <td>Read Unlimited Books</td>\n",
       "      <td>book-subscription, digital-library, netflix-fo...</td>\n",
       "      <td>2007</td>\n",
       "      <td>50</td>\n",
       "      <td>$25.8M</td>\n",
       "      <td>25800000</td>\n",
       "      <td>[{'latitude': 37.789634, 'longitude': -122.404...</td>\n",
       "    </tr>\n",
       "  </tbody>\n",
       "</table>\n",
       "</div>"
      ],
      "text/plain": [
       "   index    name category_code                         description  \\\n",
       "0      0    Digg          news  user driven social content website   \n",
       "1      1    Geni           web       Geneology social network site   \n",
       "2      2  Scribd          news                Read Unlimited Books   \n",
       "\n",
       "                                            tag_list  founded_year  \\\n",
       "0  community, social, news, bookmark, digg, techn...          2004   \n",
       "1         geni, geneology, social, family, genealogy          2006   \n",
       "2  book-subscription, digital-library, netflix-fo...          2007   \n",
       "\n",
       "   number_of_employees total_money_raised  raised_money_dollars  \\\n",
       "0                   60               $45M              45000000   \n",
       "1                   18             $16.5M              16500000   \n",
       "2                   50             $25.8M              25800000   \n",
       "\n",
       "                                             offices  \n",
       "0  [{'latitude': 37.764726, 'longitude': -122.394...  \n",
       "1  [{'latitude': 34.090368, 'longitude': -118.393...  \n",
       "2  [{'latitude': 37.789634, 'longitude': -122.404...  "
      ]
     },
     "execution_count": 109,
     "metadata": {},
     "output_type": "execute_result"
    }
   ],
   "source": [
    "def money_dollars(s):\n",
    "    mfloat=float(re.search(\"(\\d*\\.\\d*|\\d+)\",s).group(1))\n",
    "    if s.endswith(\"M\"): mfloat*=1000000\n",
    "    if s.endswith(\"B\"): mfloat*=1000000000\n",
    "    if s.endswith(\"k\"): mfloat*=1000\n",
    "    if s.startswith(\"C$\"): mfloat*=1/rates[\"CAD\"]\n",
    "    if s.startswith(\"€\"): mfloat*=1/rates[\"EUR\"]\n",
    "    if s.startswith(\"£\"): mfloat*=1/rates[\"GBP\"]\n",
    "    if s.startswith(\"kr\"): mfloat*=1/rates[\"SEK\"]\n",
    "    return round(mfloat)\n",
    "\n",
    "df[\"raised_money_dollars\"]=df.copy()[\"total_money_raised\"].apply(money_dollars)\n",
    "df=df[['name','category_code','description','tag_list','founded_year','number_of_employees','total_money_raised','raised_money_dollars','offices']]\n",
    "df.reset_index(inplace=True)\n",
    "df.head(3)"
   ]
  },
  {
   "cell_type": "markdown",
   "metadata": {},
   "source": [
    "#### The \"offices\" column contains lists of dictionaries with the info of every office each company has. I need to separate each element of these lists into separate rows so I can have a register for each office of each company:"
   ]
  },
  {
   "cell_type": "code",
   "execution_count": 110,
   "metadata": {},
   "outputs": [
    {
     "data": {
      "text/html": [
       "<div>\n",
       "<style scoped>\n",
       "    .dataframe tbody tr th:only-of-type {\n",
       "        vertical-align: middle;\n",
       "    }\n",
       "\n",
       "    .dataframe tbody tr th {\n",
       "        vertical-align: top;\n",
       "    }\n",
       "\n",
       "    .dataframe thead th {\n",
       "        text-align: right;\n",
       "    }\n",
       "</style>\n",
       "<table border=\"1\" class=\"dataframe\">\n",
       "  <thead>\n",
       "    <tr style=\"text-align: right;\">\n",
       "      <th></th>\n",
       "      <th>index</th>\n",
       "      <th>offices</th>\n",
       "    </tr>\n",
       "  </thead>\n",
       "  <tbody>\n",
       "    <tr>\n",
       "      <th>0</th>\n",
       "      <td>0</td>\n",
       "      <td>{'latitude': 37.764726, 'longitude': -122.394523}</td>\n",
       "    </tr>\n",
       "    <tr>\n",
       "      <th>1</th>\n",
       "      <td>1</td>\n",
       "      <td>{'latitude': 34.090368, 'longitude': -118.393064}</td>\n",
       "    </tr>\n",
       "    <tr>\n",
       "      <th>2</th>\n",
       "      <td>2</td>\n",
       "      <td>{'latitude': 37.789634, 'longitude': -122.404052}</td>\n",
       "    </tr>\n",
       "    <tr>\n",
       "      <th>3</th>\n",
       "      <td>3</td>\n",
       "      <td>{'latitude': 40.757929, 'longitude': -73.985506}</td>\n",
       "    </tr>\n",
       "    <tr>\n",
       "      <th>4</th>\n",
       "      <td>4</td>\n",
       "      <td>{'latitude': 37.7768052, 'longitude': -122.416...</td>\n",
       "    </tr>\n",
       "  </tbody>\n",
       "</table>\n",
       "</div>"
      ],
      "text/plain": [
       "   index                                            offices\n",
       "0      0  {'latitude': 37.764726, 'longitude': -122.394523}\n",
       "1      1  {'latitude': 34.090368, 'longitude': -118.393064}\n",
       "2      2  {'latitude': 37.789634, 'longitude': -122.404052}\n",
       "3      3   {'latitude': 40.757929, 'longitude': -73.985506}\n",
       "4      4  {'latitude': 37.7768052, 'longitude': -122.416..."
      ]
     },
     "execution_count": 110,
     "metadata": {},
     "output_type": "execute_result"
    }
   ],
   "source": [
    "offices_list=df.copy()[[\"index\",\"offices\"]]\n",
    "offices_list_clean= pd.DataFrame(offices_list[\"offices\"].tolist()).stack().reset_index(level=1, drop=True).reset_index(name='offices')\n",
    "\n",
    "offices_list_clean.head()"
   ]
  },
  {
   "cell_type": "code",
   "execution_count": 111,
   "metadata": {},
   "outputs": [
    {
     "data": {
      "text/html": [
       "<div>\n",
       "<style scoped>\n",
       "    .dataframe tbody tr th:only-of-type {\n",
       "        vertical-align: middle;\n",
       "    }\n",
       "\n",
       "    .dataframe tbody tr th {\n",
       "        vertical-align: top;\n",
       "    }\n",
       "\n",
       "    .dataframe thead th {\n",
       "        text-align: right;\n",
       "    }\n",
       "</style>\n",
       "<table border=\"1\" class=\"dataframe\">\n",
       "  <thead>\n",
       "    <tr style=\"text-align: right;\">\n",
       "      <th></th>\n",
       "      <th>index</th>\n",
       "      <th>name</th>\n",
       "      <th>category_code</th>\n",
       "      <th>description</th>\n",
       "      <th>tag_list</th>\n",
       "      <th>founded_year</th>\n",
       "      <th>number_of_employees</th>\n",
       "      <th>total_money_raised</th>\n",
       "      <th>raised_money_dollars</th>\n",
       "      <th>offices_x</th>\n",
       "      <th>offices_y</th>\n",
       "    </tr>\n",
       "  </thead>\n",
       "  <tbody>\n",
       "    <tr>\n",
       "      <th>0</th>\n",
       "      <td>0</td>\n",
       "      <td>Digg</td>\n",
       "      <td>news</td>\n",
       "      <td>user driven social content website</td>\n",
       "      <td>community, social, news, bookmark, digg, techn...</td>\n",
       "      <td>2004</td>\n",
       "      <td>60</td>\n",
       "      <td>$45M</td>\n",
       "      <td>45000000</td>\n",
       "      <td>[{'latitude': 37.764726, 'longitude': -122.394...</td>\n",
       "      <td>{'latitude': 37.764726, 'longitude': -122.394523}</td>\n",
       "    </tr>\n",
       "    <tr>\n",
       "      <th>1</th>\n",
       "      <td>1</td>\n",
       "      <td>Geni</td>\n",
       "      <td>web</td>\n",
       "      <td>Geneology social network site</td>\n",
       "      <td>geni, geneology, social, family, genealogy</td>\n",
       "      <td>2006</td>\n",
       "      <td>18</td>\n",
       "      <td>$16.5M</td>\n",
       "      <td>16500000</td>\n",
       "      <td>[{'latitude': 34.090368, 'longitude': -118.393...</td>\n",
       "      <td>{'latitude': 34.090368, 'longitude': -118.393064}</td>\n",
       "    </tr>\n",
       "    <tr>\n",
       "      <th>2</th>\n",
       "      <td>2</td>\n",
       "      <td>Scribd</td>\n",
       "      <td>news</td>\n",
       "      <td>Read Unlimited Books</td>\n",
       "      <td>book-subscription, digital-library, netflix-fo...</td>\n",
       "      <td>2007</td>\n",
       "      <td>50</td>\n",
       "      <td>$25.8M</td>\n",
       "      <td>25800000</td>\n",
       "      <td>[{'latitude': 37.789634, 'longitude': -122.404...</td>\n",
       "      <td>{'latitude': 37.789634, 'longitude': -122.404052}</td>\n",
       "    </tr>\n",
       "  </tbody>\n",
       "</table>\n",
       "</div>"
      ],
      "text/plain": [
       "   index    name category_code                         description  \\\n",
       "0      0    Digg          news  user driven social content website   \n",
       "1      1    Geni           web       Geneology social network site   \n",
       "2      2  Scribd          news                Read Unlimited Books   \n",
       "\n",
       "                                            tag_list  founded_year  \\\n",
       "0  community, social, news, bookmark, digg, techn...          2004   \n",
       "1         geni, geneology, social, family, genealogy          2006   \n",
       "2  book-subscription, digital-library, netflix-fo...          2007   \n",
       "\n",
       "   number_of_employees total_money_raised  raised_money_dollars  \\\n",
       "0                   60               $45M              45000000   \n",
       "1                   18             $16.5M              16500000   \n",
       "2                   50             $25.8M              25800000   \n",
       "\n",
       "                                           offices_x  \\\n",
       "0  [{'latitude': 37.764726, 'longitude': -122.394...   \n",
       "1  [{'latitude': 34.090368, 'longitude': -118.393...   \n",
       "2  [{'latitude': 37.789634, 'longitude': -122.404...   \n",
       "\n",
       "                                           offices_y  \n",
       "0  {'latitude': 37.764726, 'longitude': -122.394523}  \n",
       "1  {'latitude': 34.090368, 'longitude': -118.393064}  \n",
       "2  {'latitude': 37.789634, 'longitude': -122.404052}  "
      ]
     },
     "execution_count": 111,
     "metadata": {},
     "output_type": "execute_result"
    }
   ],
   "source": [
    "df_offices=df.merge(offices_list_clean,left_on='index', right_on='index')\n",
    "df_offices.head(3)"
   ]
  },
  {
   "cell_type": "code",
   "execution_count": 112,
   "metadata": {
    "scrolled": true
   },
   "outputs": [],
   "source": [
    "df_offices = df_offices.drop([\"offices_x\",\"total_money_raised\"], axis=1)\n",
    "df_offices.rename(index=str, columns={\"offices_y\": \"offices\"},inplace=True)"
   ]
  },
  {
   "cell_type": "code",
   "execution_count": 113,
   "metadata": {},
   "outputs": [
    {
     "data": {
      "text/html": [
       "<div>\n",
       "<style scoped>\n",
       "    .dataframe tbody tr th:only-of-type {\n",
       "        vertical-align: middle;\n",
       "    }\n",
       "\n",
       "    .dataframe tbody tr th {\n",
       "        vertical-align: top;\n",
       "    }\n",
       "\n",
       "    .dataframe thead th {\n",
       "        text-align: right;\n",
       "    }\n",
       "</style>\n",
       "<table border=\"1\" class=\"dataframe\">\n",
       "  <thead>\n",
       "    <tr style=\"text-align: right;\">\n",
       "      <th></th>\n",
       "      <th>index</th>\n",
       "      <th>name</th>\n",
       "      <th>category_code</th>\n",
       "      <th>description</th>\n",
       "      <th>tag_list</th>\n",
       "      <th>founded_year</th>\n",
       "      <th>number_of_employees</th>\n",
       "      <th>raised_money_dollars</th>\n",
       "      <th>offices</th>\n",
       "    </tr>\n",
       "  </thead>\n",
       "  <tbody>\n",
       "    <tr>\n",
       "      <th>0</th>\n",
       "      <td>0</td>\n",
       "      <td>Digg</td>\n",
       "      <td>news</td>\n",
       "      <td>user driven social content website</td>\n",
       "      <td>community, social, news, bookmark, digg, techn...</td>\n",
       "      <td>2004</td>\n",
       "      <td>60</td>\n",
       "      <td>45000000</td>\n",
       "      <td>{'latitude': 37.764726, 'longitude': -122.394523}</td>\n",
       "    </tr>\n",
       "    <tr>\n",
       "      <th>1</th>\n",
       "      <td>1</td>\n",
       "      <td>Geni</td>\n",
       "      <td>web</td>\n",
       "      <td>Geneology social network site</td>\n",
       "      <td>geni, geneology, social, family, genealogy</td>\n",
       "      <td>2006</td>\n",
       "      <td>18</td>\n",
       "      <td>16500000</td>\n",
       "      <td>{'latitude': 34.090368, 'longitude': -118.393064}</td>\n",
       "    </tr>\n",
       "    <tr>\n",
       "      <th>2</th>\n",
       "      <td>2</td>\n",
       "      <td>Scribd</td>\n",
       "      <td>news</td>\n",
       "      <td>Read Unlimited Books</td>\n",
       "      <td>book-subscription, digital-library, netflix-fo...</td>\n",
       "      <td>2007</td>\n",
       "      <td>50</td>\n",
       "      <td>25800000</td>\n",
       "      <td>{'latitude': 37.789634, 'longitude': -122.404052}</td>\n",
       "    </tr>\n",
       "  </tbody>\n",
       "</table>\n",
       "</div>"
      ],
      "text/plain": [
       "   index    name category_code                         description  \\\n",
       "0      0    Digg          news  user driven social content website   \n",
       "1      1    Geni           web       Geneology social network site   \n",
       "2      2  Scribd          news                Read Unlimited Books   \n",
       "\n",
       "                                            tag_list  founded_year  \\\n",
       "0  community, social, news, bookmark, digg, techn...          2004   \n",
       "1         geni, geneology, social, family, genealogy          2006   \n",
       "2  book-subscription, digital-library, netflix-fo...          2007   \n",
       "\n",
       "   number_of_employees  raised_money_dollars  \\\n",
       "0                   60              45000000   \n",
       "1                   18              16500000   \n",
       "2                   50              25800000   \n",
       "\n",
       "                                             offices  \n",
       "0  {'latitude': 37.764726, 'longitude': -122.394523}  \n",
       "1  {'latitude': 34.090368, 'longitude': -118.393064}  \n",
       "2  {'latitude': 37.789634, 'longitude': -122.404052}  "
      ]
     },
     "execution_count": 113,
     "metadata": {},
     "output_type": "execute_result"
    }
   ],
   "source": [
    "df_offices.head(3)"
   ]
  },
  {
   "cell_type": "markdown",
   "metadata": {},
   "source": [
    "#### Now that we have a record for each office, let's extract the coordinates from the \"offices\" column and create a geo-point we can use later on for geo queries:"
   ]
  },
  {
   "cell_type": "code",
   "execution_count": 114,
   "metadata": {},
   "outputs": [
    {
     "data": {
      "text/html": [
       "<div>\n",
       "<style scoped>\n",
       "    .dataframe tbody tr th:only-of-type {\n",
       "        vertical-align: middle;\n",
       "    }\n",
       "\n",
       "    .dataframe tbody tr th {\n",
       "        vertical-align: top;\n",
       "    }\n",
       "\n",
       "    .dataframe thead th {\n",
       "        text-align: right;\n",
       "    }\n",
       "</style>\n",
       "<table border=\"1\" class=\"dataframe\">\n",
       "  <thead>\n",
       "    <tr style=\"text-align: right;\">\n",
       "      <th></th>\n",
       "      <th>geo_point</th>\n",
       "      <th>lat</th>\n",
       "      <th>lng</th>\n",
       "    </tr>\n",
       "  </thead>\n",
       "  <tbody>\n",
       "    <tr>\n",
       "      <th>0</th>\n",
       "      <td>{'type': 'Point', 'coordinates': [-122.394523,...</td>\n",
       "      <td>37.764726</td>\n",
       "      <td>-122.394523</td>\n",
       "    </tr>\n",
       "    <tr>\n",
       "      <th>1</th>\n",
       "      <td>{'type': 'Point', 'coordinates': [-118.393064,...</td>\n",
       "      <td>34.090368</td>\n",
       "      <td>-118.393064</td>\n",
       "    </tr>\n",
       "    <tr>\n",
       "      <th>2</th>\n",
       "      <td>{'type': 'Point', 'coordinates': [-122.404052,...</td>\n",
       "      <td>37.789634</td>\n",
       "      <td>-122.404052</td>\n",
       "    </tr>\n",
       "    <tr>\n",
       "      <th>3</th>\n",
       "      <td>{'type': 'Point', 'coordinates': [-73.985506, ...</td>\n",
       "      <td>40.757929</td>\n",
       "      <td>-73.985506</td>\n",
       "    </tr>\n",
       "    <tr>\n",
       "      <th>4</th>\n",
       "      <td>{'type': 'Point', 'coordinates': [-122.4169244...</td>\n",
       "      <td>37.776805</td>\n",
       "      <td>-122.416924</td>\n",
       "    </tr>\n",
       "  </tbody>\n",
       "</table>\n",
       "</div>"
      ],
      "text/plain": [
       "                                           geo_point        lat         lng\n",
       "0  {'type': 'Point', 'coordinates': [-122.394523,...  37.764726 -122.394523\n",
       "1  {'type': 'Point', 'coordinates': [-118.393064,...  34.090368 -118.393064\n",
       "2  {'type': 'Point', 'coordinates': [-122.404052,...  37.789634 -122.404052\n",
       "3  {'type': 'Point', 'coordinates': [-73.985506, ...  40.757929  -73.985506\n",
       "4  {'type': 'Point', 'coordinates': [-122.4169244...  37.776805 -122.416924"
      ]
     },
     "execution_count": 114,
     "metadata": {},
     "output_type": "execute_result"
    }
   ],
   "source": [
    "def get_coords(data):\n",
    "    data = data['offices']\n",
    "#    return (len(data),data[0]['latitude'],data[0]['longitude'])\n",
    "\n",
    "    # Only create the geoJSON object if all geodata is available\n",
    "    principal = None\n",
    "    if data['latitude'] and data['longitude']:\n",
    "        principal = {\n",
    "            \"type\":\"Point\",\n",
    "            \"coordinates\":[data['longitude'], data['latitude']]\n",
    "        }\n",
    "\n",
    "    return {\n",
    "        \"lat\": data['latitude'],\n",
    "        \"lng\": data['longitude'],\n",
    "        \"geo_point\": principal\n",
    "    }\n",
    "\n",
    "\n",
    "offices = df_offices[[\"offices\"]].apply(get_coords, result_type=\"expand\", axis=1)\n",
    "offices.head()"
   ]
  },
  {
   "cell_type": "code",
   "execution_count": 115,
   "metadata": {},
   "outputs": [],
   "source": [
    "df_geo=pd.concat([df_offices,offices], axis=1)\n",
    "df_geo = df_geo.drop([\"offices\"], axis=1)"
   ]
  },
  {
   "cell_type": "code",
   "execution_count": 13,
   "metadata": {},
   "outputs": [
    {
     "data": {
      "text/html": [
       "<div>\n",
       "<style scoped>\n",
       "    .dataframe tbody tr th:only-of-type {\n",
       "        vertical-align: middle;\n",
       "    }\n",
       "\n",
       "    .dataframe tbody tr th {\n",
       "        vertical-align: top;\n",
       "    }\n",
       "\n",
       "    .dataframe thead th {\n",
       "        text-align: right;\n",
       "    }\n",
       "</style>\n",
       "<table border=\"1\" class=\"dataframe\">\n",
       "  <thead>\n",
       "    <tr style=\"text-align: right;\">\n",
       "      <th></th>\n",
       "      <th>index</th>\n",
       "      <th>name</th>\n",
       "      <th>category_code</th>\n",
       "      <th>description</th>\n",
       "      <th>tag_list</th>\n",
       "      <th>founded_year</th>\n",
       "      <th>number_of_employees</th>\n",
       "      <th>raised_money_dollars</th>\n",
       "      <th>lat</th>\n",
       "      <th>lng</th>\n",
       "      <th>geo_point</th>\n",
       "    </tr>\n",
       "  </thead>\n",
       "  <tbody>\n",
       "    <tr>\n",
       "      <th>0</th>\n",
       "      <td>0</td>\n",
       "      <td>Digg</td>\n",
       "      <td>news</td>\n",
       "      <td>user driven social content website</td>\n",
       "      <td>community, social, news, bookmark, digg, techn...</td>\n",
       "      <td>2004</td>\n",
       "      <td>60</td>\n",
       "      <td>45000000</td>\n",
       "      <td>37.764726</td>\n",
       "      <td>-122.394523</td>\n",
       "      <td>{'type': 'Point', 'coordinates': [-122.394523,...</td>\n",
       "    </tr>\n",
       "    <tr>\n",
       "      <th>1</th>\n",
       "      <td>1</td>\n",
       "      <td>Geni</td>\n",
       "      <td>web</td>\n",
       "      <td>Geneology social network site</td>\n",
       "      <td>geni, geneology, social, family, genealogy</td>\n",
       "      <td>2006</td>\n",
       "      <td>18</td>\n",
       "      <td>16500000</td>\n",
       "      <td>34.090368</td>\n",
       "      <td>-118.393064</td>\n",
       "      <td>{'type': 'Point', 'coordinates': [-118.393064,...</td>\n",
       "    </tr>\n",
       "    <tr>\n",
       "      <th>2</th>\n",
       "      <td>2</td>\n",
       "      <td>Scribd</td>\n",
       "      <td>news</td>\n",
       "      <td>Read Unlimited Books</td>\n",
       "      <td>book-subscription, digital-library, netflix-fo...</td>\n",
       "      <td>2007</td>\n",
       "      <td>50</td>\n",
       "      <td>25800000</td>\n",
       "      <td>37.789634</td>\n",
       "      <td>-122.404052</td>\n",
       "      <td>{'type': 'Point', 'coordinates': [-122.404052,...</td>\n",
       "    </tr>\n",
       "    <tr>\n",
       "      <th>3</th>\n",
       "      <td>3</td>\n",
       "      <td>MeetMoi</td>\n",
       "      <td>social</td>\n",
       "      <td>Mobile Dating</td>\n",
       "      <td>mobile, dating, location, realtime, phone</td>\n",
       "      <td>2007</td>\n",
       "      <td>15</td>\n",
       "      <td>5580000</td>\n",
       "      <td>40.757929</td>\n",
       "      <td>-73.985506</td>\n",
       "      <td>{'type': 'Point', 'coordinates': [-73.985506, ...</td>\n",
       "    </tr>\n",
       "    <tr>\n",
       "      <th>4</th>\n",
       "      <td>4</td>\n",
       "      <td>Twitter</td>\n",
       "      <td>social</td>\n",
       "      <td>Real time communication platform</td>\n",
       "      <td>text, messaging, social, community, twitter, t...</td>\n",
       "      <td>2006</td>\n",
       "      <td>1300</td>\n",
       "      <td>1160000000</td>\n",
       "      <td>37.776805</td>\n",
       "      <td>-122.416924</td>\n",
       "      <td>{'type': 'Point', 'coordinates': [-122.4169244...</td>\n",
       "    </tr>\n",
       "  </tbody>\n",
       "</table>\n",
       "</div>"
      ],
      "text/plain": [
       "   index     name category_code                         description  \\\n",
       "0      0     Digg          news  user driven social content website   \n",
       "1      1     Geni           web       Geneology social network site   \n",
       "2      2   Scribd          news                Read Unlimited Books   \n",
       "3      3  MeetMoi        social                       Mobile Dating   \n",
       "4      4  Twitter        social    Real time communication platform   \n",
       "\n",
       "                                            tag_list  founded_year  \\\n",
       "0  community, social, news, bookmark, digg, techn...          2004   \n",
       "1         geni, geneology, social, family, genealogy          2006   \n",
       "2  book-subscription, digital-library, netflix-fo...          2007   \n",
       "3          mobile, dating, location, realtime, phone          2007   \n",
       "4  text, messaging, social, community, twitter, t...          2006   \n",
       "\n",
       "   number_of_employees  raised_money_dollars        lat         lng  \\\n",
       "0                   60              45000000  37.764726 -122.394523   \n",
       "1                   18              16500000  34.090368 -118.393064   \n",
       "2                   50              25800000  37.789634 -122.404052   \n",
       "3                   15               5580000  40.757929  -73.985506   \n",
       "4                 1300            1160000000  37.776805 -122.416924   \n",
       "\n",
       "                                           geo_point  \n",
       "0  {'type': 'Point', 'coordinates': [-122.394523,...  \n",
       "1  {'type': 'Point', 'coordinates': [-118.393064,...  \n",
       "2  {'type': 'Point', 'coordinates': [-122.404052,...  \n",
       "3  {'type': 'Point', 'coordinates': [-73.985506, ...  \n",
       "4  {'type': 'Point', 'coordinates': [-122.4169244...  "
      ]
     },
     "execution_count": 13,
     "metadata": {},
     "output_type": "execute_result"
    }
   ],
   "source": [
    "df_geo=df_geo[['index', 'name', 'category_code', 'description', 'tag_list', 'founded_year', 'number_of_employees', 'raised_money_dollars', 'lat', 'lng', 'geo_point']]\n",
    "df_geo.head()"
   ]
  },
  {
   "cell_type": "markdown",
   "metadata": {},
   "source": [
    "#### Now let's replace null values in text columns for \"None\":"
   ]
  },
  {
   "cell_type": "code",
   "execution_count": 116,
   "metadata": {},
   "outputs": [
    {
     "data": {
      "text/plain": [
       "(4972, 11)"
      ]
     },
     "execution_count": 116,
     "metadata": {},
     "output_type": "execute_result"
    }
   ],
   "source": [
    "df_geo[\"category_code\"]=df_geo[\"category_code\"].fillna(\"None\")\n",
    "df_geo[\"description\"]=df_geo[\"description\"].fillna(\"None\")\n",
    "df_geo[\"tag_list\"]=df_geo[\"tag_list\"].fillna(\"None\")\n",
    "df_geo.isnull().sum()\n",
    "test_df=df_geo.copy()\n",
    "test_df.shape"
   ]
  },
  {
   "cell_type": "markdown",
   "metadata": {},
   "source": [
    "#### I still have almost 5000 companies in my dataframe. Not all of this companies are valid to our criteria. For instance, no one in the company wants to have companies with more than 10 years in a radius of 2 KM (note that the data in our dataset is from 2013, so let's assume it's still 2013).\n",
    "#### Therefore, let's create a new column that indicates if the company is \"young\" (10 years old or less):"
   ]
  },
  {
   "cell_type": "code",
   "execution_count": 117,
   "metadata": {},
   "outputs": [
    {
     "data": {
      "text/html": [
       "<div>\n",
       "<style scoped>\n",
       "    .dataframe tbody tr th:only-of-type {\n",
       "        vertical-align: middle;\n",
       "    }\n",
       "\n",
       "    .dataframe tbody tr th {\n",
       "        vertical-align: top;\n",
       "    }\n",
       "\n",
       "    .dataframe thead th {\n",
       "        text-align: right;\n",
       "    }\n",
       "</style>\n",
       "<table border=\"1\" class=\"dataframe\">\n",
       "  <thead>\n",
       "    <tr style=\"text-align: right;\">\n",
       "      <th></th>\n",
       "      <th>index</th>\n",
       "      <th>name</th>\n",
       "      <th>category_code</th>\n",
       "      <th>description</th>\n",
       "      <th>tag_list</th>\n",
       "      <th>founded_year</th>\n",
       "      <th>number_of_employees</th>\n",
       "      <th>raised_money_dollars</th>\n",
       "      <th>geo_point</th>\n",
       "      <th>lat</th>\n",
       "      <th>lng</th>\n",
       "      <th>is_young</th>\n",
       "    </tr>\n",
       "  </thead>\n",
       "  <tbody>\n",
       "    <tr>\n",
       "      <th>0</th>\n",
       "      <td>0</td>\n",
       "      <td>Digg</td>\n",
       "      <td>news</td>\n",
       "      <td>user driven social content website</td>\n",
       "      <td>community, social, news, bookmark, digg, techn...</td>\n",
       "      <td>2004</td>\n",
       "      <td>60</td>\n",
       "      <td>45000000</td>\n",
       "      <td>{'type': 'Point', 'coordinates': [-122.394523,...</td>\n",
       "      <td>37.764726</td>\n",
       "      <td>-122.394523</td>\n",
       "      <td>1</td>\n",
       "    </tr>\n",
       "    <tr>\n",
       "      <th>1</th>\n",
       "      <td>1</td>\n",
       "      <td>Geni</td>\n",
       "      <td>web</td>\n",
       "      <td>Geneology social network site</td>\n",
       "      <td>geni, geneology, social, family, genealogy</td>\n",
       "      <td>2006</td>\n",
       "      <td>18</td>\n",
       "      <td>16500000</td>\n",
       "      <td>{'type': 'Point', 'coordinates': [-118.393064,...</td>\n",
       "      <td>34.090368</td>\n",
       "      <td>-118.393064</td>\n",
       "      <td>1</td>\n",
       "    </tr>\n",
       "    <tr>\n",
       "      <th>2</th>\n",
       "      <td>2</td>\n",
       "      <td>Scribd</td>\n",
       "      <td>news</td>\n",
       "      <td>Read Unlimited Books</td>\n",
       "      <td>book-subscription, digital-library, netflix-fo...</td>\n",
       "      <td>2007</td>\n",
       "      <td>50</td>\n",
       "      <td>25800000</td>\n",
       "      <td>{'type': 'Point', 'coordinates': [-122.404052,...</td>\n",
       "      <td>37.789634</td>\n",
       "      <td>-122.404052</td>\n",
       "      <td>1</td>\n",
       "    </tr>\n",
       "  </tbody>\n",
       "</table>\n",
       "</div>"
      ],
      "text/plain": [
       "   index    name category_code                         description  \\\n",
       "0      0    Digg          news  user driven social content website   \n",
       "1      1    Geni           web       Geneology social network site   \n",
       "2      2  Scribd          news                Read Unlimited Books   \n",
       "\n",
       "                                            tag_list  founded_year  \\\n",
       "0  community, social, news, bookmark, digg, techn...          2004   \n",
       "1         geni, geneology, social, family, genealogy          2006   \n",
       "2  book-subscription, digital-library, netflix-fo...          2007   \n",
       "\n",
       "   number_of_employees  raised_money_dollars  \\\n",
       "0                   60              45000000   \n",
       "1                   18              16500000   \n",
       "2                   50              25800000   \n",
       "\n",
       "                                           geo_point        lat         lng  \\\n",
       "0  {'type': 'Point', 'coordinates': [-122.394523,...  37.764726 -122.394523   \n",
       "1  {'type': 'Point', 'coordinates': [-118.393064,...  34.090368 -118.393064   \n",
       "2  {'type': 'Point', 'coordinates': [-122.404052,...  37.789634 -122.404052   \n",
       "\n",
       "   is_young  \n",
       "0         1  \n",
       "1         1  \n",
       "2         1  "
      ]
     },
     "execution_count": 117,
     "metadata": {},
     "output_type": "execute_result"
    }
   ],
   "source": [
    "def is_young(x):\n",
    "    if x>=2003: return 1\n",
    "    return 0\n",
    "test_df[\"is_young\"]=test_df[\"founded_year\"].apply(is_young)\n",
    "test_df.head(3)\n"
   ]
  },
  {
   "cell_type": "markdown",
   "metadata": {},
   "source": [
    "#### Note that I will not be exluding the \"old\" companies from my dataframe as this would make it impossible to know wether a location is close to one of these companies (how else would you know that they are not close if you don't know where they are???)"
   ]
  },
  {
   "cell_type": "markdown",
   "metadata": {},
   "source": [
    "#### Now we want to determine wether the companies in our dataframe other criteria or not:\n",
    "#### 1. Employees want the offices to be close to design companies. \n",
    "#### 2. Employees want the offices to be close to succesful tech startups that have raised at least 1 Million dollars.\n",
    "#### 3. In my opinion, it would be good to have \"similar\" companies close to our offices. \n",
    "#### So, based on this I've made a few functions to see if the criteria is met. I will only evaluate the criteria for \"young\" companies, as old companies will be in my \"go away\" list:"
   ]
  },
  {
   "cell_type": "code",
   "execution_count": 118,
   "metadata": {},
   "outputs": [],
   "source": [
    "def is_succesful(x):\n",
    "    if x>1000000: return 1\n",
    "    return 0\n",
    "\n",
    "def is_similar(df1,df2,df3,lista):\n",
    "    lst=[]\n",
    "    for i in range(df1.shape[0]):\n",
    "        for el in lista:\n",
    "            if (el in df1[i].lower()) or (el in df2[i].lower()) or (el in df3[i].lower()):\n",
    "                lst.append(1)\n",
    "                break\n",
    "        else: lst.append(0)\n",
    "    return lst\n",
    "\n",
    "similars=['web', 'software', 'games_video', 'games','game','mobile','search', 'social','design']"
   ]
  },
  {
   "cell_type": "code",
   "execution_count": 119,
   "metadata": {},
   "outputs": [],
   "source": [
    "test_df[\"is_design\"]=test_df[\"is_young\"]*is_similar(test_df[\"category_code\"],test_df[\"description\"],test_df[\"tag_list\"],[\"design\"])\n",
    "test_df[\"is_similar\"]=test_df[\"is_young\"]*is_similar(test_df[\"category_code\"],test_df[\"description\"],test_df[\"tag_list\"],similars)\n",
    "test_df[\"is_succesful\"]=test_df[\"is_young\"]*test_df[\"raised_money_dollars\"].apply(is_succesful)"
   ]
  },
  {
   "cell_type": "code",
   "execution_count": 120,
   "metadata": {},
   "outputs": [],
   "source": [
    "test_df = test_df.drop([\"index\"], axis=1)\n"
   ]
  },
  {
   "cell_type": "code",
   "execution_count": 122,
   "metadata": {},
   "outputs": [
    {
     "data": {
      "text/html": [
       "<div>\n",
       "<style scoped>\n",
       "    .dataframe tbody tr th:only-of-type {\n",
       "        vertical-align: middle;\n",
       "    }\n",
       "\n",
       "    .dataframe tbody tr th {\n",
       "        vertical-align: top;\n",
       "    }\n",
       "\n",
       "    .dataframe thead th {\n",
       "        text-align: right;\n",
       "    }\n",
       "</style>\n",
       "<table border=\"1\" class=\"dataframe\">\n",
       "  <thead>\n",
       "    <tr style=\"text-align: right;\">\n",
       "      <th></th>\n",
       "      <th>name</th>\n",
       "      <th>category_code</th>\n",
       "      <th>description</th>\n",
       "      <th>tag_list</th>\n",
       "      <th>founded_year</th>\n",
       "      <th>number_of_employees</th>\n",
       "      <th>raised_money_dollars</th>\n",
       "      <th>geo_point</th>\n",
       "      <th>lat</th>\n",
       "      <th>lng</th>\n",
       "      <th>is_young</th>\n",
       "      <th>is_design</th>\n",
       "      <th>is_similar</th>\n",
       "      <th>is_succesful</th>\n",
       "    </tr>\n",
       "  </thead>\n",
       "  <tbody>\n",
       "    <tr>\n",
       "      <th>0</th>\n",
       "      <td>Digg</td>\n",
       "      <td>news</td>\n",
       "      <td>user driven social content website</td>\n",
       "      <td>community, social, news, bookmark, digg, techn...</td>\n",
       "      <td>2004</td>\n",
       "      <td>60</td>\n",
       "      <td>45000000</td>\n",
       "      <td>{'type': 'Point', 'coordinates': [-122.394523,...</td>\n",
       "      <td>37.764726</td>\n",
       "      <td>-122.394523</td>\n",
       "      <td>1</td>\n",
       "      <td>1</td>\n",
       "      <td>1</td>\n",
       "      <td>1</td>\n",
       "    </tr>\n",
       "    <tr>\n",
       "      <th>1</th>\n",
       "      <td>Geni</td>\n",
       "      <td>web</td>\n",
       "      <td>Geneology social network site</td>\n",
       "      <td>geni, geneology, social, family, genealogy</td>\n",
       "      <td>2006</td>\n",
       "      <td>18</td>\n",
       "      <td>16500000</td>\n",
       "      <td>{'type': 'Point', 'coordinates': [-118.393064,...</td>\n",
       "      <td>34.090368</td>\n",
       "      <td>-118.393064</td>\n",
       "      <td>1</td>\n",
       "      <td>0</td>\n",
       "      <td>1</td>\n",
       "      <td>1</td>\n",
       "    </tr>\n",
       "    <tr>\n",
       "      <th>2</th>\n",
       "      <td>Scribd</td>\n",
       "      <td>news</td>\n",
       "      <td>Read Unlimited Books</td>\n",
       "      <td>book-subscription, digital-library, netflix-fo...</td>\n",
       "      <td>2007</td>\n",
       "      <td>50</td>\n",
       "      <td>25800000</td>\n",
       "      <td>{'type': 'Point', 'coordinates': [-122.404052,...</td>\n",
       "      <td>37.789634</td>\n",
       "      <td>-122.404052</td>\n",
       "      <td>1</td>\n",
       "      <td>0</td>\n",
       "      <td>1</td>\n",
       "      <td>1</td>\n",
       "    </tr>\n",
       "  </tbody>\n",
       "</table>\n",
       "</div>"
      ],
      "text/plain": [
       "     name category_code                         description  \\\n",
       "0    Digg          news  user driven social content website   \n",
       "1    Geni           web       Geneology social network site   \n",
       "2  Scribd          news                Read Unlimited Books   \n",
       "\n",
       "                                            tag_list  founded_year  \\\n",
       "0  community, social, news, bookmark, digg, techn...          2004   \n",
       "1         geni, geneology, social, family, genealogy          2006   \n",
       "2  book-subscription, digital-library, netflix-fo...          2007   \n",
       "\n",
       "   number_of_employees  raised_money_dollars  \\\n",
       "0                   60              45000000   \n",
       "1                   18              16500000   \n",
       "2                   50              25800000   \n",
       "\n",
       "                                           geo_point        lat         lng  \\\n",
       "0  {'type': 'Point', 'coordinates': [-122.394523,...  37.764726 -122.394523   \n",
       "1  {'type': 'Point', 'coordinates': [-118.393064,...  34.090368 -118.393064   \n",
       "2  {'type': 'Point', 'coordinates': [-122.404052,...  37.789634 -122.404052   \n",
       "\n",
       "   is_young  is_design  is_similar  is_succesful  \n",
       "0         1          1           1             1  \n",
       "1         1          0           1             1  \n",
       "2         1          0           1             1  "
      ]
     },
     "execution_count": 122,
     "metadata": {},
     "output_type": "execute_result"
    }
   ],
   "source": [
    "test_df.head(3)"
   ]
  },
  {
   "cell_type": "markdown",
   "metadata": {},
   "source": [
    "#### There are some duplicated rows, we need to delete those:"
   ]
  },
  {
   "cell_type": "code",
   "execution_count": 124,
   "metadata": {},
   "outputs": [
    {
     "name": "stdout",
     "output_type": "stream",
     "text": [
      "Number of duplicate records dropped:  275\n"
     ]
    }
   ],
   "source": [
    "no_dups=test_df.copy()\n",
    "no_dups[\"geo_point\"]=no_dups[\"geo_point\"].astype(str)\n",
    "before = no_dups.shape[0]\n",
    "no_dups = no_dups.drop_duplicates()\n",
    "after = no_dups.shape[0]\n",
    "print('Number of duplicate records dropped: ', str(before - after))\n"
   ]
  },
  {
   "cell_type": "code",
   "execution_count": 125,
   "metadata": {},
   "outputs": [
    {
     "data": {
      "text/plain": [
       "\"{'type': 'Point', 'coordinates': [-122.394523, 37.764726]}\""
      ]
     },
     "execution_count": 125,
     "metadata": {},
     "output_type": "execute_result"
    }
   ],
   "source": [
    "no_dups[\"geo_point\"][0]"
   ]
  },
  {
   "cell_type": "markdown",
   "metadata": {},
   "source": [
    "#### We had to convert our \"geo_point\" column to string to delete duplicate records. Now we need to make it into a dictionary again:"
   ]
  },
  {
   "cell_type": "code",
   "execution_count": 126,
   "metadata": {},
   "outputs": [],
   "source": [
    "import ast\n",
    "no_dups[\"geo_point\"]=no_dups[\"geo_point\"].apply(ast.literal_eval)"
   ]
  },
  {
   "cell_type": "code",
   "execution_count": 128,
   "metadata": {},
   "outputs": [
    {
     "data": {
      "text/plain": [
       "{'coordinates': [-122.394523, 37.764726], 'type': 'Point'}"
      ]
     },
     "execution_count": 128,
     "metadata": {},
     "output_type": "execute_result"
    }
   ],
   "source": [
    "no_dups[\"geo_point\"][0]"
   ]
  },
  {
   "cell_type": "code",
   "execution_count": 129,
   "metadata": {},
   "outputs": [
    {
     "data": {
      "text/plain": [
       "(3504, 14)"
      ]
     },
     "execution_count": 129,
     "metadata": {},
     "output_type": "execute_result"
    }
   ],
   "source": [
    "no_dups[no_dups['is_young']==1].shape"
   ]
  },
  {
   "cell_type": "markdown",
   "metadata": {},
   "source": [
    "#### Out of nearly 5000 companies, 3504 onf them are \"young\" companies we would like to be near to! these will be the companies we'll be evaluating in our next step. Now, lets export the df to json so we can creat the geo index:"
   ]
  },
  {
   "cell_type": "code",
   "execution_count": 131,
   "metadata": {},
   "outputs": [],
   "source": [
    "no_dups.to_json('../data/df_geo.json', orient=\"records\")"
   ]
  },
  {
   "cell_type": "code",
   "execution_count": null,
   "metadata": {},
   "outputs": [],
   "source": []
  }
 ],
 "metadata": {
  "kernelspec": {
   "display_name": "Python 3",
   "language": "python",
   "name": "python3"
  },
  "language_info": {
   "codemirror_mode": {
    "name": "ipython",
    "version": 3
   },
   "file_extension": ".py",
   "mimetype": "text/x-python",
   "name": "python",
   "nbconvert_exporter": "python",
   "pygments_lexer": "ipython3",
   "version": "3.6.8"
  }
 },
 "nbformat": 4,
 "nbformat_minor": 2
}
