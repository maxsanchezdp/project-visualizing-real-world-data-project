{
 "cells": [
  {
   "cell_type": "code",
   "execution_count": 2,
   "metadata": {},
   "outputs": [],
   "source": [
    "from pymongo import MongoClient\n",
    "import pandas as pd\n",
    "import numpy as np\n",
    "import pprint\n",
    "import re\n",
    "import requests as req\n",
    "\n",
    "client = MongoClient('mongodb://localhost:27017/')\n",
    "db = client.companies"
   ]
  },
  {
   "cell_type": "markdown",
   "metadata": {},
   "source": [
    "PyMongo query to keep only companies with office longitude and latitude information available:"
   ]
  },
  {
   "cell_type": "code",
   "execution_count": 3,
   "metadata": {},
   "outputs": [],
   "source": [
    "query={'$and': [{\"offices.latitude\":{'$not':{'$eq':None}}},{\"offices.longitude\":{'$not':{'$eq':None}}},{\"offices.latitude\":{'$exists':True}},{\"offices.longitude\":{'$exists':True}}]}\n",
    "projection={'_id':0,'category_code':1,'name':1,'number_of_employees':1,'founded_year':1,'deadpooled_year':1,'tag_list':1,'description':1,'total_money_raised':1,\"offices.latitude\":1,\"offices.longitude\":1}\n",
    "with_geoloc=db.companies.find(query,projection)"
   ]
  },
  {
   "cell_type": "markdown",
   "metadata": {},
   "source": [
    "Make a dataframe from the previous query:"
   ]
  },
  {
   "cell_type": "code",
   "execution_count": 4,
   "metadata": {},
   "outputs": [],
   "source": [
    "df=pd.DataFrame(with_geoloc)\n"
   ]
  },
  {
   "cell_type": "markdown",
   "metadata": {},
   "source": [
    "Re-order columns:"
   ]
  },
  {
   "cell_type": "code",
   "execution_count": 5,
   "metadata": {},
   "outputs": [
    {
     "data": {
      "text/html": [
       "<div>\n",
       "<style scoped>\n",
       "    .dataframe tbody tr th:only-of-type {\n",
       "        vertical-align: middle;\n",
       "    }\n",
       "\n",
       "    .dataframe tbody tr th {\n",
       "        vertical-align: top;\n",
       "    }\n",
       "\n",
       "    .dataframe thead th {\n",
       "        text-align: right;\n",
       "    }\n",
       "</style>\n",
       "<table border=\"1\" class=\"dataframe\">\n",
       "  <thead>\n",
       "    <tr style=\"text-align: right;\">\n",
       "      <th></th>\n",
       "      <th>name</th>\n",
       "      <th>category_code</th>\n",
       "      <th>description</th>\n",
       "      <th>founded_year</th>\n",
       "      <th>deadpooled_year</th>\n",
       "      <th>number_of_employees</th>\n",
       "      <th>total_money_raised</th>\n",
       "      <th>tag_list</th>\n",
       "      <th>offices</th>\n",
       "    </tr>\n",
       "  </thead>\n",
       "  <tbody>\n",
       "    <tr>\n",
       "      <th>0</th>\n",
       "      <td>AdventNet</td>\n",
       "      <td>enterprise</td>\n",
       "      <td>Server Management Software</td>\n",
       "      <td>1996.0</td>\n",
       "      <td>2.0</td>\n",
       "      <td>600.0</td>\n",
       "      <td>$0</td>\n",
       "      <td></td>\n",
       "      <td>[{'latitude': 37.692934, 'longitude': -121.904...</td>\n",
       "    </tr>\n",
       "    <tr>\n",
       "      <th>1</th>\n",
       "      <td>Wetpaint</td>\n",
       "      <td>web</td>\n",
       "      <td>Technology Platform Company</td>\n",
       "      <td>2005.0</td>\n",
       "      <td>1.0</td>\n",
       "      <td>47.0</td>\n",
       "      <td>$39.8M</td>\n",
       "      <td>wiki, seattle, elowitz, media-industry, media-...</td>\n",
       "      <td>[{'latitude': 47.603122, 'longitude': -122.333...</td>\n",
       "    </tr>\n",
       "    <tr>\n",
       "      <th>2</th>\n",
       "      <td>Zoho</td>\n",
       "      <td>software</td>\n",
       "      <td>Online Business Apps Suite</td>\n",
       "      <td>2005.0</td>\n",
       "      <td>3.0</td>\n",
       "      <td>1600.0</td>\n",
       "      <td>$0</td>\n",
       "      <td>zoho, officesuite, spreadsheet, writer, projec...</td>\n",
       "      <td>[{'latitude': 37.692934, 'longitude': -121.904...</td>\n",
       "    </tr>\n",
       "  </tbody>\n",
       "</table>\n",
       "</div>"
      ],
      "text/plain": [
       "        name category_code                  description  founded_year  \\\n",
       "0  AdventNet    enterprise   Server Management Software        1996.0   \n",
       "1   Wetpaint           web  Technology Platform Company        2005.0   \n",
       "2       Zoho      software   Online Business Apps Suite        2005.0   \n",
       "\n",
       "   deadpooled_year  number_of_employees total_money_raised  \\\n",
       "0              2.0                600.0                 $0   \n",
       "1              1.0                 47.0             $39.8M   \n",
       "2              3.0               1600.0                 $0   \n",
       "\n",
       "                                            tag_list  \\\n",
       "0                                                      \n",
       "1  wiki, seattle, elowitz, media-industry, media-...   \n",
       "2  zoho, officesuite, spreadsheet, writer, projec...   \n",
       "\n",
       "                                             offices  \n",
       "0  [{'latitude': 37.692934, 'longitude': -121.904...  \n",
       "1  [{'latitude': 47.603122, 'longitude': -122.333...  \n",
       "2  [{'latitude': 37.692934, 'longitude': -121.904...  "
      ]
     },
     "execution_count": 5,
     "metadata": {},
     "output_type": "execute_result"
    }
   ],
   "source": [
    "df=df[['name','category_code','description','founded_year','deadpooled_year','number_of_employees','total_money_raised','tag_list','offices']]\n",
    "df.head(3)"
   ]
  },
  {
   "cell_type": "markdown",
   "metadata": {},
   "source": [
    "Get exchange rate from API to \"clean\" currency:"
   ]
  },
  {
   "cell_type": "code",
   "execution_count": 6,
   "metadata": {},
   "outputs": [
    {
     "data": {
      "text/plain": [
       "{'CAD': 1.3124497992,\n",
       " 'EUR': 0.8924587238,\n",
       " 'GBP': 0.8029897367,\n",
       " 'SEK': 9.490227577}"
      ]
     },
     "execution_count": 6,
     "metadata": {},
     "output_type": "execute_result"
    }
   ],
   "source": [
    "url=\"https://api.exchangeratesapi.io/latest\"\n",
    "query_params={\"base\":\"USD\",\"symbols\":[\"CAD\",\"EUR\",\"GBP\",\"SEK\"]}\n",
    "\n",
    "res = req.get(url,params=query_params)\n",
    "content=res.json()\n",
    "rates=content[\"rates\"]\n",
    "\n",
    "rates"
   ]
  },
  {
   "cell_type": "code",
   "execution_count": 7,
   "metadata": {},
   "outputs": [
    {
     "data": {
      "text/html": [
       "<div>\n",
       "<style scoped>\n",
       "    .dataframe tbody tr th:only-of-type {\n",
       "        vertical-align: middle;\n",
       "    }\n",
       "\n",
       "    .dataframe tbody tr th {\n",
       "        vertical-align: top;\n",
       "    }\n",
       "\n",
       "    .dataframe thead th {\n",
       "        text-align: right;\n",
       "    }\n",
       "</style>\n",
       "<table border=\"1\" class=\"dataframe\">\n",
       "  <thead>\n",
       "    <tr style=\"text-align: right;\">\n",
       "      <th></th>\n",
       "      <th>index</th>\n",
       "      <th>name</th>\n",
       "      <th>category_code</th>\n",
       "      <th>description</th>\n",
       "      <th>founded_year</th>\n",
       "      <th>deadpooled_year</th>\n",
       "      <th>number_of_employees</th>\n",
       "      <th>total_money_raised</th>\n",
       "      <th>raised_money_dollars</th>\n",
       "      <th>tag_list</th>\n",
       "      <th>offices</th>\n",
       "    </tr>\n",
       "  </thead>\n",
       "  <tbody>\n",
       "    <tr>\n",
       "      <th>0</th>\n",
       "      <td>0</td>\n",
       "      <td>AdventNet</td>\n",
       "      <td>enterprise</td>\n",
       "      <td>Server Management Software</td>\n",
       "      <td>1996.0</td>\n",
       "      <td>2.0</td>\n",
       "      <td>600.0</td>\n",
       "      <td>$0</td>\n",
       "      <td>0</td>\n",
       "      <td></td>\n",
       "      <td>[{'latitude': 37.692934, 'longitude': -121.904...</td>\n",
       "    </tr>\n",
       "    <tr>\n",
       "      <th>1</th>\n",
       "      <td>1</td>\n",
       "      <td>Wetpaint</td>\n",
       "      <td>web</td>\n",
       "      <td>Technology Platform Company</td>\n",
       "      <td>2005.0</td>\n",
       "      <td>1.0</td>\n",
       "      <td>47.0</td>\n",
       "      <td>$39.8M</td>\n",
       "      <td>39800000</td>\n",
       "      <td>wiki, seattle, elowitz, media-industry, media-...</td>\n",
       "      <td>[{'latitude': 47.603122, 'longitude': -122.333...</td>\n",
       "    </tr>\n",
       "    <tr>\n",
       "      <th>2</th>\n",
       "      <td>2</td>\n",
       "      <td>Zoho</td>\n",
       "      <td>software</td>\n",
       "      <td>Online Business Apps Suite</td>\n",
       "      <td>2005.0</td>\n",
       "      <td>3.0</td>\n",
       "      <td>1600.0</td>\n",
       "      <td>$0</td>\n",
       "      <td>0</td>\n",
       "      <td>zoho, officesuite, spreadsheet, writer, projec...</td>\n",
       "      <td>[{'latitude': 37.692934, 'longitude': -121.904...</td>\n",
       "    </tr>\n",
       "  </tbody>\n",
       "</table>\n",
       "</div>"
      ],
      "text/plain": [
       "   index       name category_code                  description  founded_year  \\\n",
       "0      0  AdventNet    enterprise   Server Management Software        1996.0   \n",
       "1      1   Wetpaint           web  Technology Platform Company        2005.0   \n",
       "2      2       Zoho      software   Online Business Apps Suite        2005.0   \n",
       "\n",
       "   deadpooled_year  number_of_employees total_money_raised  \\\n",
       "0              2.0                600.0                 $0   \n",
       "1              1.0                 47.0             $39.8M   \n",
       "2              3.0               1600.0                 $0   \n",
       "\n",
       "   raised_money_dollars                                           tag_list  \\\n",
       "0                     0                                                      \n",
       "1              39800000  wiki, seattle, elowitz, media-industry, media-...   \n",
       "2                     0  zoho, officesuite, spreadsheet, writer, projec...   \n",
       "\n",
       "                                             offices  \n",
       "0  [{'latitude': 37.692934, 'longitude': -121.904...  \n",
       "1  [{'latitude': 47.603122, 'longitude': -122.333...  \n",
       "2  [{'latitude': 37.692934, 'longitude': -121.904...  "
      ]
     },
     "execution_count": 7,
     "metadata": {},
     "output_type": "execute_result"
    }
   ],
   "source": [
    "def money_dollars(s):\n",
    "    mfloat=float(re.search(\"(\\d*\\.\\d*|\\d+)\",s).group(1))\n",
    "    if s.endswith(\"M\"): mfloat*=1000000\n",
    "    if s.endswith(\"B\"): mfloat*=1000000000\n",
    "    if s.endswith(\"k\"): mfloat*=1000\n",
    "    if s.startswith(\"C$\"): mfloat*=1/rates[\"CAD\"]\n",
    "    if s.startswith(\"€\"): mfloat*=1/rates[\"EUR\"]\n",
    "    if s.startswith(\"£\"): mfloat*=1/rates[\"GBP\"]\n",
    "    if s.startswith(\"kr\"): mfloat*=1/rates[\"SEK\"]\n",
    "    return round(mfloat)\n",
    "\n",
    "df[\"raised_money_dollars\"]=df.copy()[\"total_money_raised\"].apply(money_dollars)\n",
    "df=df[['name','category_code','description','founded_year','deadpooled_year','number_of_employees','total_money_raised',\"raised_money_dollars\",'tag_list','offices']]\n",
    "df.reset_index(inplace=True)\n",
    "df.head(3)"
   ]
  },
  {
   "cell_type": "code",
   "execution_count": 35,
   "metadata": {},
   "outputs": [
    {
     "data": {
      "text/html": [
       "<div>\n",
       "<style scoped>\n",
       "    .dataframe tbody tr th:only-of-type {\n",
       "        vertical-align: middle;\n",
       "    }\n",
       "\n",
       "    .dataframe tbody tr th {\n",
       "        vertical-align: top;\n",
       "    }\n",
       "\n",
       "    .dataframe thead th {\n",
       "        text-align: right;\n",
       "    }\n",
       "</style>\n",
       "<table border=\"1\" class=\"dataframe\">\n",
       "  <thead>\n",
       "    <tr style=\"text-align: right;\">\n",
       "      <th></th>\n",
       "      <th>index</th>\n",
       "      <th>offices</th>\n",
       "    </tr>\n",
       "  </thead>\n",
       "  <tbody>\n",
       "    <tr>\n",
       "      <th>0</th>\n",
       "      <td>0</td>\n",
       "      <td>{'latitude': 37.692934, 'longitude': -121.904945}</td>\n",
       "    </tr>\n",
       "    <tr>\n",
       "      <th>1</th>\n",
       "      <td>1</td>\n",
       "      <td>{'latitude': 47.603122, 'longitude': -122.333253}</td>\n",
       "    </tr>\n",
       "    <tr>\n",
       "      <th>2</th>\n",
       "      <td>1</td>\n",
       "      <td>{'latitude': 40.7237306, 'longitude': -73.9964...</td>\n",
       "    </tr>\n",
       "    <tr>\n",
       "      <th>3</th>\n",
       "      <td>2</td>\n",
       "      <td>{'latitude': 37.692934, 'longitude': -121.904945}</td>\n",
       "    </tr>\n",
       "    <tr>\n",
       "      <th>4</th>\n",
       "      <td>3</td>\n",
       "      <td>{'latitude': 37.764726, 'longitude': -122.394523}</td>\n",
       "    </tr>\n",
       "  </tbody>\n",
       "</table>\n",
       "</div>"
      ],
      "text/plain": [
       "   index                                            offices\n",
       "0      0  {'latitude': 37.692934, 'longitude': -121.904945}\n",
       "1      1  {'latitude': 47.603122, 'longitude': -122.333253}\n",
       "2      1  {'latitude': 40.7237306, 'longitude': -73.9964...\n",
       "3      2  {'latitude': 37.692934, 'longitude': -121.904945}\n",
       "4      3  {'latitude': 37.764726, 'longitude': -122.394523}"
      ]
     },
     "metadata": {},
     "output_type": "display_data"
    }
   ],
   "source": [
    "offices_list=df.copy()[[\"index\",\"offices\"]]\n",
    "offices_list_clean= pd.DataFrame(offices_list[\"offices\"].tolist()).stack().reset_index(level=1, drop=True).reset_index(name='offices')\n",
    "\n",
    "display(offices_list_clean.head(5))"
   ]
  },
  {
   "cell_type": "code",
   "execution_count": 9,
   "metadata": {},
   "outputs": [
    {
     "data": {
      "text/html": [
       "<div>\n",
       "<style scoped>\n",
       "    .dataframe tbody tr th:only-of-type {\n",
       "        vertical-align: middle;\n",
       "    }\n",
       "\n",
       "    .dataframe tbody tr th {\n",
       "        vertical-align: top;\n",
       "    }\n",
       "\n",
       "    .dataframe thead th {\n",
       "        text-align: right;\n",
       "    }\n",
       "</style>\n",
       "<table border=\"1\" class=\"dataframe\">\n",
       "  <thead>\n",
       "    <tr style=\"text-align: right;\">\n",
       "      <th></th>\n",
       "      <th>index</th>\n",
       "      <th>name</th>\n",
       "      <th>category_code</th>\n",
       "      <th>description</th>\n",
       "      <th>founded_year</th>\n",
       "      <th>deadpooled_year</th>\n",
       "      <th>number_of_employees</th>\n",
       "      <th>total_money_raised</th>\n",
       "      <th>raised_money_dollars</th>\n",
       "      <th>tag_list</th>\n",
       "      <th>offices_x</th>\n",
       "      <th>offices_y</th>\n",
       "    </tr>\n",
       "  </thead>\n",
       "  <tbody>\n",
       "    <tr>\n",
       "      <th>0</th>\n",
       "      <td>0</td>\n",
       "      <td>AdventNet</td>\n",
       "      <td>enterprise</td>\n",
       "      <td>Server Management Software</td>\n",
       "      <td>1996.0</td>\n",
       "      <td>2.0</td>\n",
       "      <td>600.0</td>\n",
       "      <td>$0</td>\n",
       "      <td>0</td>\n",
       "      <td></td>\n",
       "      <td>[{'latitude': 37.692934, 'longitude': -121.904...</td>\n",
       "      <td>{'latitude': 37.692934, 'longitude': -121.904945}</td>\n",
       "    </tr>\n",
       "    <tr>\n",
       "      <th>1</th>\n",
       "      <td>1</td>\n",
       "      <td>Wetpaint</td>\n",
       "      <td>web</td>\n",
       "      <td>Technology Platform Company</td>\n",
       "      <td>2005.0</td>\n",
       "      <td>1.0</td>\n",
       "      <td>47.0</td>\n",
       "      <td>$39.8M</td>\n",
       "      <td>39800000</td>\n",
       "      <td>wiki, seattle, elowitz, media-industry, media-...</td>\n",
       "      <td>[{'latitude': 47.603122, 'longitude': -122.333...</td>\n",
       "      <td>{'latitude': 47.603122, 'longitude': -122.333253}</td>\n",
       "    </tr>\n",
       "    <tr>\n",
       "      <th>2</th>\n",
       "      <td>1</td>\n",
       "      <td>Wetpaint</td>\n",
       "      <td>web</td>\n",
       "      <td>Technology Platform Company</td>\n",
       "      <td>2005.0</td>\n",
       "      <td>1.0</td>\n",
       "      <td>47.0</td>\n",
       "      <td>$39.8M</td>\n",
       "      <td>39800000</td>\n",
       "      <td>wiki, seattle, elowitz, media-industry, media-...</td>\n",
       "      <td>[{'latitude': 47.603122, 'longitude': -122.333...</td>\n",
       "      <td>{'latitude': 40.7237306, 'longitude': -73.9964...</td>\n",
       "    </tr>\n",
       "  </tbody>\n",
       "</table>\n",
       "</div>"
      ],
      "text/plain": [
       "   index       name category_code                  description  founded_year  \\\n",
       "0      0  AdventNet    enterprise   Server Management Software        1996.0   \n",
       "1      1   Wetpaint           web  Technology Platform Company        2005.0   \n",
       "2      1   Wetpaint           web  Technology Platform Company        2005.0   \n",
       "\n",
       "   deadpooled_year  number_of_employees total_money_raised  \\\n",
       "0              2.0                600.0                 $0   \n",
       "1              1.0                 47.0             $39.8M   \n",
       "2              1.0                 47.0             $39.8M   \n",
       "\n",
       "   raised_money_dollars                                           tag_list  \\\n",
       "0                     0                                                      \n",
       "1              39800000  wiki, seattle, elowitz, media-industry, media-...   \n",
       "2              39800000  wiki, seattle, elowitz, media-industry, media-...   \n",
       "\n",
       "                                           offices_x  \\\n",
       "0  [{'latitude': 37.692934, 'longitude': -121.904...   \n",
       "1  [{'latitude': 47.603122, 'longitude': -122.333...   \n",
       "2  [{'latitude': 47.603122, 'longitude': -122.333...   \n",
       "\n",
       "                                           offices_y  \n",
       "0  {'latitude': 37.692934, 'longitude': -121.904945}  \n",
       "1  {'latitude': 47.603122, 'longitude': -122.333253}  \n",
       "2  {'latitude': 40.7237306, 'longitude': -73.9964...  "
      ]
     },
     "execution_count": 9,
     "metadata": {},
     "output_type": "execute_result"
    }
   ],
   "source": [
    "df_offices=df.merge(offices_list_clean,left_on='index', right_on='index')\n",
    "df_offices.head(3)"
   ]
  },
  {
   "cell_type": "code",
   "execution_count": 10,
   "metadata": {
    "scrolled": true
   },
   "outputs": [
    {
     "data": {
      "text/html": [
       "<div>\n",
       "<style scoped>\n",
       "    .dataframe tbody tr th:only-of-type {\n",
       "        vertical-align: middle;\n",
       "    }\n",
       "\n",
       "    .dataframe tbody tr th {\n",
       "        vertical-align: top;\n",
       "    }\n",
       "\n",
       "    .dataframe thead th {\n",
       "        text-align: right;\n",
       "    }\n",
       "</style>\n",
       "<table border=\"1\" class=\"dataframe\">\n",
       "  <thead>\n",
       "    <tr style=\"text-align: right;\">\n",
       "      <th></th>\n",
       "      <th>index</th>\n",
       "      <th>name</th>\n",
       "      <th>category_code</th>\n",
       "      <th>description</th>\n",
       "      <th>founded_year</th>\n",
       "      <th>deadpooled_year</th>\n",
       "      <th>number_of_employees</th>\n",
       "      <th>total_money_raised</th>\n",
       "      <th>raised_money_dollars</th>\n",
       "      <th>tag_list</th>\n",
       "      <th>offices</th>\n",
       "    </tr>\n",
       "  </thead>\n",
       "  <tbody>\n",
       "    <tr>\n",
       "      <th>0</th>\n",
       "      <td>0</td>\n",
       "      <td>AdventNet</td>\n",
       "      <td>enterprise</td>\n",
       "      <td>Server Management Software</td>\n",
       "      <td>1996.0</td>\n",
       "      <td>2.0</td>\n",
       "      <td>600.0</td>\n",
       "      <td>$0</td>\n",
       "      <td>0</td>\n",
       "      <td></td>\n",
       "      <td>{'latitude': 37.692934, 'longitude': -121.904945}</td>\n",
       "    </tr>\n",
       "    <tr>\n",
       "      <th>1</th>\n",
       "      <td>1</td>\n",
       "      <td>Wetpaint</td>\n",
       "      <td>web</td>\n",
       "      <td>Technology Platform Company</td>\n",
       "      <td>2005.0</td>\n",
       "      <td>1.0</td>\n",
       "      <td>47.0</td>\n",
       "      <td>$39.8M</td>\n",
       "      <td>39800000</td>\n",
       "      <td>wiki, seattle, elowitz, media-industry, media-...</td>\n",
       "      <td>{'latitude': 47.603122, 'longitude': -122.333253}</td>\n",
       "    </tr>\n",
       "    <tr>\n",
       "      <th>2</th>\n",
       "      <td>1</td>\n",
       "      <td>Wetpaint</td>\n",
       "      <td>web</td>\n",
       "      <td>Technology Platform Company</td>\n",
       "      <td>2005.0</td>\n",
       "      <td>1.0</td>\n",
       "      <td>47.0</td>\n",
       "      <td>$39.8M</td>\n",
       "      <td>39800000</td>\n",
       "      <td>wiki, seattle, elowitz, media-industry, media-...</td>\n",
       "      <td>{'latitude': 40.7237306, 'longitude': -73.9964...</td>\n",
       "    </tr>\n",
       "  </tbody>\n",
       "</table>\n",
       "</div>"
      ],
      "text/plain": [
       "   index       name category_code                  description  founded_year  \\\n",
       "0      0  AdventNet    enterprise   Server Management Software        1996.0   \n",
       "1      1   Wetpaint           web  Technology Platform Company        2005.0   \n",
       "2      1   Wetpaint           web  Technology Platform Company        2005.0   \n",
       "\n",
       "   deadpooled_year  number_of_employees total_money_raised  \\\n",
       "0              2.0                600.0                 $0   \n",
       "1              1.0                 47.0             $39.8M   \n",
       "2              1.0                 47.0             $39.8M   \n",
       "\n",
       "   raised_money_dollars                                           tag_list  \\\n",
       "0                     0                                                      \n",
       "1              39800000  wiki, seattle, elowitz, media-industry, media-...   \n",
       "2              39800000  wiki, seattle, elowitz, media-industry, media-...   \n",
       "\n",
       "                                             offices  \n",
       "0  {'latitude': 37.692934, 'longitude': -121.904945}  \n",
       "1  {'latitude': 47.603122, 'longitude': -122.333253}  \n",
       "2  {'latitude': 40.7237306, 'longitude': -73.9964...  "
      ]
     },
     "execution_count": 10,
     "metadata": {},
     "output_type": "execute_result"
    }
   ],
   "source": [
    "df_offices = df_offices.drop([\"offices_x\"], axis=1)\n",
    "df_offices.rename(index=str, columns={\"offices_y\": \"offices\"},inplace=True)\n",
    "df_offices.head(3)"
   ]
  },
  {
   "cell_type": "code",
   "execution_count": 18,
   "metadata": {},
   "outputs": [],
   "source": [
    "def get_coords(data):\n",
    "    data = data['offices']\n",
    "#    return (len(data),data[0]['latitude'],data[0]['longitude'])\n",
    "\n",
    "    # Only create the geoJSON object if all geodata is available\n",
    "    principal = None\n",
    "    if data['latitude'] and data['longitude']:\n",
    "        principal = {\n",
    "            \"type\":\"Point\",\n",
    "            \"coordinates\":[data['longitude'], data['latitude']]\n",
    "        }\n",
    "\n",
    "    return {\n",
    "        \"lat\": data['latitude'],\n",
    "        \"lng\": data['longitude'],\n",
    "        \"geo_point\": principal\n",
    "    }\n",
    "\n",
    "\n",
    "offices = df_offices[[\"offices\"]].apply(get_coords, result_type=\"expand\", axis=1)"
   ]
  },
  {
   "cell_type": "code",
   "execution_count": 21,
   "metadata": {},
   "outputs": [],
   "source": [
    "df_geo=pd.concat([df_offices,offices], axis=1)\n",
    "df_geo = df_geo.drop([\"offices\"], axis=1)"
   ]
  },
  {
   "cell_type": "code",
   "execution_count": 29,
   "metadata": {},
   "outputs": [
    {
     "data": {
      "text/plain": [
       "index                   0\n",
       "name                    0\n",
       "category_code           0\n",
       "description             0\n",
       "founded_year            0\n",
       "deadpooled_year         0\n",
       "number_of_employees     0\n",
       "total_money_raised      0\n",
       "raised_money_dollars    0\n",
       "tag_list                0\n",
       "geo_point               0\n",
       "lat                     0\n",
       "lng                     0\n",
       "dtype: int64"
      ]
     },
     "execution_count": 29,
     "metadata": {},
     "output_type": "execute_result"
    }
   ],
   "source": [
    "df_geo[\"category_code\"]=df_geo[\"category_code\"].fillna(\"None\")\n",
    "df_geo[\"description\"]=df_geo[\"description\"].fillna(\"None\")\n",
    "df_geo[\"description\"]=df_geo[\"description\"].fillna(\"None\")\n",
    "df_geo[\"tag_list\"]=df_geo[\"tag_list\"].fillna(\"None\")\n",
    "df_geo[\"founded_year\"]=df_geo[\"founded_year\"].fillna(0)\n",
    "df_geo[\"deadpooled_year\"]=df_geo[\"deadpooled_year\"].fillna(0)\n",
    "df_geo[\"number_of_employees\"]=df_geo[\"number_of_employees\"].fillna(0)\n",
    "df_geo.isnull().sum()"
   ]
  },
  {
   "cell_type": "code",
   "execution_count": 31,
   "metadata": {},
   "outputs": [
    {
     "data": {
      "text/plain": [
       "index                     int64\n",
       "name                     object\n",
       "category_code            object\n",
       "description              object\n",
       "founded_year              int64\n",
       "deadpooled_year           int64\n",
       "number_of_employees       int64\n",
       "total_money_raised       object\n",
       "raised_money_dollars      int64\n",
       "tag_list                 object\n",
       "geo_point                object\n",
       "lat                     float64\n",
       "lng                     float64\n",
       "dtype: object"
      ]
     },
     "execution_count": 31,
     "metadata": {},
     "output_type": "execute_result"
    }
   ],
   "source": [
    "df_geo[\"founded_year\"]=df_geo[\"founded_year\"].astype('int')\n",
    "df_geo[\"deadpooled_year\"]=df_geo[\"deadpooled_year\"].astype('int')\n",
    "df_geo[\"number_of_employees\"]=df_geo[\"number_of_employees\"].astype('int')\n",
    "df_geo.dtypes"
   ]
  },
  {
   "cell_type": "code",
   "execution_count": 33,
   "metadata": {},
   "outputs": [],
   "source": [
    "df_geo = df_geo.drop([\"total_money_raised\"], axis=1)"
   ]
  },
  {
   "cell_type": "code",
   "execution_count": 36,
   "metadata": {},
   "outputs": [],
   "source": [
    "df_geo.to_json('../data/df_geo.json', orient=\"records\")"
   ]
  },
  {
   "cell_type": "code",
   "execution_count": null,
   "metadata": {},
   "outputs": [],
   "source": []
  }
 ],
 "metadata": {
  "kernelspec": {
   "display_name": "Python 3",
   "language": "python",
   "name": "python3"
  },
  "language_info": {
   "codemirror_mode": {
    "name": "ipython",
    "version": 3
   },
   "file_extension": ".py",
   "mimetype": "text/x-python",
   "name": "python",
   "nbconvert_exporter": "python",
   "pygments_lexer": "ipython3",
   "version": "3.6.8"
  }
 },
 "nbformat": 4,
 "nbformat_minor": 2
}
