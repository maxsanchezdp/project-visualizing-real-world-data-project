{
 "cells": [
  {
   "cell_type": "code",
   "execution_count": 11,
   "metadata": {},
   "outputs": [],
   "source": [
    "from pymongo import MongoClient\n",
    "import pandas as pd\n",
    "import numpy as np\n",
    "import pprint\n",
    "import re\n",
    "import requests as req\n",
    "\n",
    "client = MongoClient('mongodb://localhost:27017/')\n",
    "db = client.companies"
   ]
  },
  {
   "cell_type": "markdown",
   "metadata": {},
   "source": [
    "PyMongo query to keep only companies with office longitude and latitude information available:"
   ]
  },
  {
   "cell_type": "code",
   "execution_count": 12,
   "metadata": {},
   "outputs": [],
   "source": [
    "query={'$and': [{\"offices.latitude\":{'$not':{'$eq':None}}},{\"offices.longitude\":{'$not':{'$eq':None}}},{\"offices.latitude\":{'$exists':True}},{\"offices.longitude\":{'$exists':True}}]}\n",
    "projection={'_id':0,'category_code':1,'name':1,'number_of_employees':1,'founded_year':1,'deadpooled_year':1,'tag_list':1,'description':1,'total_money_raised':1,\"offices.latitude\":1,\"offices.longitude\":1}\n",
    "with_geoloc=db.companies.find(query,projection)"
   ]
  },
  {
   "cell_type": "markdown",
   "metadata": {},
   "source": [
    "Make a dataframe from the previous query:"
   ]
  },
  {
   "cell_type": "code",
   "execution_count": 13,
   "metadata": {},
   "outputs": [],
   "source": [
    "df=pd.DataFrame(with_geoloc)\n"
   ]
  },
  {
   "cell_type": "markdown",
   "metadata": {},
   "source": [
    "Re-order columns:"
   ]
  },
  {
   "cell_type": "code",
   "execution_count": 15,
   "metadata": {},
   "outputs": [
    {
     "data": {
      "text/html": [
       "<div>\n",
       "<style scoped>\n",
       "    .dataframe tbody tr th:only-of-type {\n",
       "        vertical-align: middle;\n",
       "    }\n",
       "\n",
       "    .dataframe tbody tr th {\n",
       "        vertical-align: top;\n",
       "    }\n",
       "\n",
       "    .dataframe thead th {\n",
       "        text-align: right;\n",
       "    }\n",
       "</style>\n",
       "<table border=\"1\" class=\"dataframe\">\n",
       "  <thead>\n",
       "    <tr style=\"text-align: right;\">\n",
       "      <th></th>\n",
       "      <th>name</th>\n",
       "      <th>category_code</th>\n",
       "      <th>description</th>\n",
       "      <th>founded_year</th>\n",
       "      <th>deadpooled_year</th>\n",
       "      <th>number_of_employees</th>\n",
       "      <th>total_money_raised</th>\n",
       "      <th>tag_list</th>\n",
       "      <th>offices</th>\n",
       "    </tr>\n",
       "  </thead>\n",
       "  <tbody>\n",
       "    <tr>\n",
       "      <th>0</th>\n",
       "      <td>AdventNet</td>\n",
       "      <td>enterprise</td>\n",
       "      <td>Server Management Software</td>\n",
       "      <td>1996.0</td>\n",
       "      <td>2.0</td>\n",
       "      <td>600.0</td>\n",
       "      <td>$0</td>\n",
       "      <td></td>\n",
       "      <td>[{'latitude': 37.692934, 'longitude': -121.904...</td>\n",
       "    </tr>\n",
       "    <tr>\n",
       "      <th>1</th>\n",
       "      <td>Wetpaint</td>\n",
       "      <td>web</td>\n",
       "      <td>Technology Platform Company</td>\n",
       "      <td>2005.0</td>\n",
       "      <td>1.0</td>\n",
       "      <td>47.0</td>\n",
       "      <td>$39.8M</td>\n",
       "      <td>wiki, seattle, elowitz, media-industry, media-...</td>\n",
       "      <td>[{'latitude': 47.603122, 'longitude': -122.333...</td>\n",
       "    </tr>\n",
       "    <tr>\n",
       "      <th>2</th>\n",
       "      <td>Zoho</td>\n",
       "      <td>software</td>\n",
       "      <td>Online Business Apps Suite</td>\n",
       "      <td>2005.0</td>\n",
       "      <td>3.0</td>\n",
       "      <td>1600.0</td>\n",
       "      <td>$0</td>\n",
       "      <td>zoho, officesuite, spreadsheet, writer, projec...</td>\n",
       "      <td>[{'latitude': 37.692934, 'longitude': -121.904...</td>\n",
       "    </tr>\n",
       "  </tbody>\n",
       "</table>\n",
       "</div>"
      ],
      "text/plain": [
       "        name category_code                  description  founded_year  \\\n",
       "0  AdventNet    enterprise   Server Management Software        1996.0   \n",
       "1   Wetpaint           web  Technology Platform Company        2005.0   \n",
       "2       Zoho      software   Online Business Apps Suite        2005.0   \n",
       "\n",
       "   deadpooled_year  number_of_employees total_money_raised  \\\n",
       "0              2.0                600.0                 $0   \n",
       "1              1.0                 47.0             $39.8M   \n",
       "2              3.0               1600.0                 $0   \n",
       "\n",
       "                                            tag_list  \\\n",
       "0                                                      \n",
       "1  wiki, seattle, elowitz, media-industry, media-...   \n",
       "2  zoho, officesuite, spreadsheet, writer, projec...   \n",
       "\n",
       "                                             offices  \n",
       "0  [{'latitude': 37.692934, 'longitude': -121.904...  \n",
       "1  [{'latitude': 47.603122, 'longitude': -122.333...  \n",
       "2  [{'latitude': 37.692934, 'longitude': -121.904...  "
      ]
     },
     "execution_count": 15,
     "metadata": {},
     "output_type": "execute_result"
    }
   ],
   "source": [
    "df=df[['name','category_code','description','founded_year','deadpooled_year','number_of_employees','total_money_raised','tag_list','offices']]\n",
    "df.head(3)"
   ]
  },
  {
   "cell_type": "markdown",
   "metadata": {},
   "source": [
    "Get exchange rate from API to \"clean\" currency:"
   ]
  },
  {
   "cell_type": "code",
   "execution_count": 17,
   "metadata": {},
   "outputs": [
    {
     "data": {
      "text/plain": [
       "{'CAD': 1.3055728934,\n",
       " 'EUR': 0.8916629514,\n",
       " 'GBP': 0.7991529202,\n",
       " 'SEK': 9.4492197949}"
      ]
     },
     "execution_count": 17,
     "metadata": {},
     "output_type": "execute_result"
    }
   ],
   "source": [
    "url=\"https://api.exchangeratesapi.io/latest\"\n",
    "query_params={\"base\":\"USD\",\"symbols\":[\"CAD\",\"EUR\",\"GBP\",\"SEK\"]}\n",
    "\n",
    "res = req.get(url,params=query_params)\n",
    "content=res.json()\n",
    "rates=content[\"rates\"]\n",
    "\n",
    "rates"
   ]
  },
  {
   "cell_type": "code",
   "execution_count": 51,
   "metadata": {},
   "outputs": [
    {
     "data": {
      "text/html": [
       "<div>\n",
       "<style scoped>\n",
       "    .dataframe tbody tr th:only-of-type {\n",
       "        vertical-align: middle;\n",
       "    }\n",
       "\n",
       "    .dataframe tbody tr th {\n",
       "        vertical-align: top;\n",
       "    }\n",
       "\n",
       "    .dataframe thead th {\n",
       "        text-align: right;\n",
       "    }\n",
       "</style>\n",
       "<table border=\"1\" class=\"dataframe\">\n",
       "  <thead>\n",
       "    <tr style=\"text-align: right;\">\n",
       "      <th></th>\n",
       "      <th>index</th>\n",
       "      <th>name</th>\n",
       "      <th>category_code</th>\n",
       "      <th>description</th>\n",
       "      <th>founded_year</th>\n",
       "      <th>deadpooled_year</th>\n",
       "      <th>number_of_employees</th>\n",
       "      <th>total_money_raised</th>\n",
       "      <th>raised_money_dollars</th>\n",
       "      <th>tag_list</th>\n",
       "      <th>offices</th>\n",
       "    </tr>\n",
       "  </thead>\n",
       "  <tbody>\n",
       "    <tr>\n",
       "      <th>0</th>\n",
       "      <td>0</td>\n",
       "      <td>AdventNet</td>\n",
       "      <td>enterprise</td>\n",
       "      <td>Server Management Software</td>\n",
       "      <td>1996.0</td>\n",
       "      <td>2.0</td>\n",
       "      <td>600.0</td>\n",
       "      <td>$0</td>\n",
       "      <td>0</td>\n",
       "      <td></td>\n",
       "      <td>[{'latitude': 37.692934, 'longitude': -121.904...</td>\n",
       "    </tr>\n",
       "    <tr>\n",
       "      <th>1</th>\n",
       "      <td>1</td>\n",
       "      <td>Wetpaint</td>\n",
       "      <td>web</td>\n",
       "      <td>Technology Platform Company</td>\n",
       "      <td>2005.0</td>\n",
       "      <td>1.0</td>\n",
       "      <td>47.0</td>\n",
       "      <td>$39.8M</td>\n",
       "      <td>39800000</td>\n",
       "      <td>wiki, seattle, elowitz, media-industry, media-...</td>\n",
       "      <td>[{'latitude': 47.603122, 'longitude': -122.333...</td>\n",
       "    </tr>\n",
       "    <tr>\n",
       "      <th>2</th>\n",
       "      <td>2</td>\n",
       "      <td>Zoho</td>\n",
       "      <td>software</td>\n",
       "      <td>Online Business Apps Suite</td>\n",
       "      <td>2005.0</td>\n",
       "      <td>3.0</td>\n",
       "      <td>1600.0</td>\n",
       "      <td>$0</td>\n",
       "      <td>0</td>\n",
       "      <td>zoho, officesuite, spreadsheet, writer, projec...</td>\n",
       "      <td>[{'latitude': 37.692934, 'longitude': -121.904...</td>\n",
       "    </tr>\n",
       "  </tbody>\n",
       "</table>\n",
       "</div>"
      ],
      "text/plain": [
       "   index       name category_code                  description  founded_year  \\\n",
       "0      0  AdventNet    enterprise   Server Management Software        1996.0   \n",
       "1      1   Wetpaint           web  Technology Platform Company        2005.0   \n",
       "2      2       Zoho      software   Online Business Apps Suite        2005.0   \n",
       "\n",
       "   deadpooled_year  number_of_employees total_money_raised  \\\n",
       "0              2.0                600.0                 $0   \n",
       "1              1.0                 47.0             $39.8M   \n",
       "2              3.0               1600.0                 $0   \n",
       "\n",
       "   raised_money_dollars                                           tag_list  \\\n",
       "0                     0                                                      \n",
       "1              39800000  wiki, seattle, elowitz, media-industry, media-...   \n",
       "2                     0  zoho, officesuite, spreadsheet, writer, projec...   \n",
       "\n",
       "                                             offices  \n",
       "0  [{'latitude': 37.692934, 'longitude': -121.904...  \n",
       "1  [{'latitude': 47.603122, 'longitude': -122.333...  \n",
       "2  [{'latitude': 37.692934, 'longitude': -121.904...  "
      ]
     },
     "execution_count": 51,
     "metadata": {},
     "output_type": "execute_result"
    }
   ],
   "source": [
    "def money_dollars(s):\n",
    "    mfloat=float(re.search(\"(\\d*\\.\\d*|\\d+)\",s).group(1))\n",
    "    if s.endswith(\"M\"): mfloat*=1000000\n",
    "    if s.endswith(\"B\"): mfloat*=1000000000\n",
    "    if s.endswith(\"k\"): mfloat*=1000\n",
    "    if s.startswith(\"C$\"): mfloat*=1/rates[\"CAD\"]\n",
    "    if s.startswith(\"€\"): mfloat*=1/rates[\"EUR\"]\n",
    "    if s.startswith(\"£\"): mfloat*=1/rates[\"GBP\"]\n",
    "    if s.startswith(\"kr\"): mfloat*=1/rates[\"SEK\"]\n",
    "    return round(mfloat)\n",
    "\n",
    "df[\"raised_money_dollars\"]=df.copy()[\"total_money_raised\"].apply(money_dollars)\n",
    "df=df[['name','category_code','description','founded_year','deadpooled_year','number_of_employees','total_money_raised',\"raised_money_dollars\",'tag_list','offices']]\n",
    "df.reset_index(inplace=True)\n",
    "df.head(3)"
   ]
  },
  {
   "cell_type": "code",
   "execution_count": 52,
   "metadata": {},
   "outputs": [
    {
     "data": {
      "text/html": [
       "<div>\n",
       "<style scoped>\n",
       "    .dataframe tbody tr th:only-of-type {\n",
       "        vertical-align: middle;\n",
       "    }\n",
       "\n",
       "    .dataframe tbody tr th {\n",
       "        vertical-align: top;\n",
       "    }\n",
       "\n",
       "    .dataframe thead th {\n",
       "        text-align: right;\n",
       "    }\n",
       "</style>\n",
       "<table border=\"1\" class=\"dataframe\">\n",
       "  <thead>\n",
       "    <tr style=\"text-align: right;\">\n",
       "      <th></th>\n",
       "      <th>index</th>\n",
       "      <th>offices</th>\n",
       "    </tr>\n",
       "  </thead>\n",
       "  <tbody>\n",
       "    <tr>\n",
       "      <th>0</th>\n",
       "      <td>0</td>\n",
       "      <td>{'latitude': 37.692934, 'longitude': -121.904945}</td>\n",
       "    </tr>\n",
       "    <tr>\n",
       "      <th>1</th>\n",
       "      <td>1</td>\n",
       "      <td>{'latitude': 47.603122, 'longitude': -122.333253}</td>\n",
       "    </tr>\n",
       "    <tr>\n",
       "      <th>2</th>\n",
       "      <td>1</td>\n",
       "      <td>{'latitude': 40.7237306, 'longitude': -73.9964...</td>\n",
       "    </tr>\n",
       "  </tbody>\n",
       "</table>\n",
       "</div>"
      ],
      "text/plain": [
       "   index                                            offices\n",
       "0      0  {'latitude': 37.692934, 'longitude': -121.904945}\n",
       "1      1  {'latitude': 47.603122, 'longitude': -122.333253}\n",
       "2      1  {'latitude': 40.7237306, 'longitude': -73.9964..."
      ]
     },
     "metadata": {},
     "output_type": "display_data"
    }
   ],
   "source": [
    "offices_list=df.copy()[[\"index\",\"offices\"]]\n",
    "offices_list_clean= pd.DataFrame(offices_list[\"offices\"].tolist()).stack().reset_index(level=1, drop=True).reset_index(name='offices')\n",
    "\n",
    "display(offices_list_clean.head(3))"
   ]
  },
  {
   "cell_type": "code",
   "execution_count": null,
   "metadata": {},
   "outputs": [],
   "source": []
  },
  {
   "cell_type": "code",
   "execution_count": 216,
   "metadata": {},
   "outputs": [
    {
     "data": {
      "text/plain": [
       "Index(['_id', 'name', 'category_code', 'description', 'founded_year',\n",
       "       'deadpooled_year', 'number_of_employees', 'total_money_raised',\n",
       "       'raised_money_dollars', 'tag_list', 'offices'],\n",
       "      dtype='object')"
      ]
     },
     "execution_count": 216,
     "metadata": {},
     "output_type": "execute_result"
    }
   ],
   "source": [
    "df.columns"
   ]
  },
  {
   "cell_type": "markdown",
   "metadata": {},
   "source": []
  },
  {
   "cell_type": "code",
   "execution_count": null,
   "metadata": {},
   "outputs": [],
   "source": []
  },
  {
   "cell_type": "code",
   "execution_count": null,
   "metadata": {},
   "outputs": [],
   "source": []
  }
 ],
 "metadata": {
  "kernelspec": {
   "display_name": "Python 3",
   "language": "python",
   "name": "python3"
  },
  "language_info": {
   "codemirror_mode": {
    "name": "ipython",
    "version": 3
   },
   "file_extension": ".py",
   "mimetype": "text/x-python",
   "name": "python",
   "nbconvert_exporter": "python",
   "pygments_lexer": "ipython3",
   "version": "3.6.8"
  }
 },
 "nbformat": 4,
 "nbformat_minor": 2
}
