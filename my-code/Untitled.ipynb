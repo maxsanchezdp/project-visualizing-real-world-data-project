{
 "cells": [
  {
   "cell_type": "code",
   "execution_count": 7,
   "metadata": {},
   "outputs": [],
   "source": [
    "from pymongo import MongoClient\n",
    "import pandas as pd\n",
    "import numpy as np\n",
    "import pprint\n",
    "import re\n",
    "import requests as req\n",
    "\n",
    "client = MongoClient('mongodb://localhost:27017/')\n",
    "db = client.companies\n"
   ]
  },
  {
   "cell_type": "markdown",
   "metadata": {},
   "source": [
    "#### First of all, let's query the \"young\" (valid) companies from our new database:"
   ]
  },
  {
   "cell_type": "code",
   "execution_count": 26,
   "metadata": {},
   "outputs": [],
   "source": [
    "young=db.offices_ok.find({\"is_young\":1},{\"_id\":0,\"index\":0})\n",
    "mydf=pd.DataFrame(young)"
   ]
  },
  {
   "cell_type": "code",
   "execution_count": 29,
   "metadata": {},
   "outputs": [
    {
     "data": {
      "text/html": [
       "<div>\n",
       "<style scoped>\n",
       "    .dataframe tbody tr th:only-of-type {\n",
       "        vertical-align: middle;\n",
       "    }\n",
       "\n",
       "    .dataframe tbody tr th {\n",
       "        vertical-align: top;\n",
       "    }\n",
       "\n",
       "    .dataframe thead th {\n",
       "        text-align: right;\n",
       "    }\n",
       "</style>\n",
       "<table border=\"1\" class=\"dataframe\">\n",
       "  <thead>\n",
       "    <tr style=\"text-align: right;\">\n",
       "      <th></th>\n",
       "      <th>name</th>\n",
       "      <th>category_code</th>\n",
       "      <th>description</th>\n",
       "      <th>tag_list</th>\n",
       "      <th>founded_year</th>\n",
       "      <th>number_of_employees</th>\n",
       "      <th>raised_money_dollars</th>\n",
       "      <th>lat</th>\n",
       "      <th>lng</th>\n",
       "      <th>geo_point</th>\n",
       "      <th>is_young</th>\n",
       "      <th>is_design</th>\n",
       "      <th>is_similar</th>\n",
       "      <th>is_succesful</th>\n",
       "    </tr>\n",
       "  </thead>\n",
       "  <tbody>\n",
       "    <tr>\n",
       "      <th>0</th>\n",
       "      <td>PeekYou</td>\n",
       "      <td>search</td>\n",
       "      <td></td>\n",
       "      <td>social-crm, database, peekyou, peoplesearch, e...</td>\n",
       "      <td>2012</td>\n",
       "      <td>20</td>\n",
       "      <td>1830000</td>\n",
       "      <td>40.757929</td>\n",
       "      <td>-73.985506</td>\n",
       "      <td>{'type': 'Point', 'coordinates': [-73.985506, ...</td>\n",
       "      <td>1</td>\n",
       "      <td>0</td>\n",
       "      <td>1</td>\n",
       "      <td>1</td>\n",
       "    </tr>\n",
       "    <tr>\n",
       "      <th>1</th>\n",
       "      <td>GENWI</td>\n",
       "      <td>mobile</td>\n",
       "      <td>Cloud Publishing for Mobile</td>\n",
       "      <td>mcms, mobile-content-management-system, live-a...</td>\n",
       "      <td>2010</td>\n",
       "      <td>25</td>\n",
       "      <td>7100000</td>\n",
       "      <td>33.817100</td>\n",
       "      <td>-111.903500</td>\n",
       "      <td>{'type': 'Point', 'coordinates': [-111.9035, 3...</td>\n",
       "      <td>1</td>\n",
       "      <td>1</td>\n",
       "      <td>1</td>\n",
       "      <td>1</td>\n",
       "    </tr>\n",
       "    <tr>\n",
       "      <th>2</th>\n",
       "      <td>Fixya</td>\n",
       "      <td>web</td>\n",
       "      <td>Tech Support Community</td>\n",
       "      <td>fixya, crowdsourcing, diy, repair, customer-se...</td>\n",
       "      <td>2013</td>\n",
       "      <td>30</td>\n",
       "      <td>8000000</td>\n",
       "      <td>37.566879</td>\n",
       "      <td>-122.323895</td>\n",
       "      <td>{'type': 'Point', 'coordinates': [-122.323895,...</td>\n",
       "      <td>1</td>\n",
       "      <td>0</td>\n",
       "      <td>1</td>\n",
       "      <td>1</td>\n",
       "    </tr>\n",
       "  </tbody>\n",
       "</table>\n",
       "</div>"
      ],
      "text/plain": [
       "      name category_code                  description  \\\n",
       "0  PeekYou        search                                \n",
       "1    GENWI        mobile  Cloud Publishing for Mobile   \n",
       "2    Fixya           web       Tech Support Community   \n",
       "\n",
       "                                            tag_list  founded_year  \\\n",
       "0  social-crm, database, peekyou, peoplesearch, e...          2012   \n",
       "1  mcms, mobile-content-management-system, live-a...          2010   \n",
       "2  fixya, crowdsourcing, diy, repair, customer-se...          2013   \n",
       "\n",
       "   number_of_employees  raised_money_dollars        lat         lng  \\\n",
       "0                   20               1830000  40.757929  -73.985506   \n",
       "1                   25               7100000  33.817100 -111.903500   \n",
       "2                   30               8000000  37.566879 -122.323895   \n",
       "\n",
       "                                           geo_point  is_young  is_design  \\\n",
       "0  {'type': 'Point', 'coordinates': [-73.985506, ...         1          0   \n",
       "1  {'type': 'Point', 'coordinates': [-111.9035, 3...         1          1   \n",
       "2  {'type': 'Point', 'coordinates': [-122.323895,...         1          0   \n",
       "\n",
       "   is_similar  is_succesful  \n",
       "0           1             1  \n",
       "1           1             1  \n",
       "2           1             1  "
      ]
     },
     "execution_count": 29,
     "metadata": {},
     "output_type": "execute_result"
    }
   ],
   "source": [
    "mydf=mydf[['name','category_code','description','tag_list','founded_year','number_of_employees','raised_money_dollars','lat','lng','geo_point','is_young','is_design','is_similar','is_succesful']]\n",
    "mydf.head(3)"
   ]
  },
  {
   "cell_type": "code",
   "execution_count": null,
   "metadata": {},
   "outputs": [],
   "source": []
  }
 ],
 "metadata": {
  "kernelspec": {
   "display_name": "Python 3",
   "language": "python",
   "name": "python3"
  },
  "language_info": {
   "codemirror_mode": {
    "name": "ipython",
    "version": 3
   },
   "file_extension": ".py",
   "mimetype": "text/x-python",
   "name": "python",
   "nbconvert_exporter": "python",
   "pygments_lexer": "ipython3",
   "version": "3.6.8"
  }
 },
 "nbformat": 4,
 "nbformat_minor": 2
}
